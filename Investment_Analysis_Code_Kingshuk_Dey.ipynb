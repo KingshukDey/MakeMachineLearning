{
 "cells": [
  {
   "cell_type": "markdown",
   "metadata": {},
   "source": [
    "# <center> Spark Funds Investment Analysis Assignment </center><br>\n",
    "<center> By Kingshuk Dey </center>"
   ]
  },
  {
   "cell_type": "markdown",
   "metadata": {},
   "source": [
    "## Project Brief\n",
    "<blockquote> You work for Spark Funds, an asset management company. Spark Funds wants to make investments in a few companies. The CEO of Spark Funds wants to understand the global trends in investments so that she can take the investment decisions effectively.</blockquote>"
   ]
  },
  {
   "cell_type": "markdown",
   "metadata": {},
   "source": [
    "## Business and Data Understanding\n",
    "<blockquote> <ul> <li>It wants to invest between 5 to 15 million USD per round of investment </li>\n",
    "<li>It wants to invest only in English-speaking countries</li> </ul>\n",
    "</blockquote>\n"
   ]
  },
  {
   "cell_type": "markdown",
   "metadata": {},
   "source": [
    "## Business Objective\n",
    "<blockquote>The objective is to identify the best sectors, countries, and a suitable investment type for making investments. The overall strategy is to invest where others are investing, implying that the 'best' sectors and countries are the ones 'where most investors are investing'.</blockquote>"
   ]
  },
  {
   "cell_type": "markdown",
   "metadata": {},
   "source": [
    "## Data Analysis Goals\n",
    "<blockquote><ol><li>Investment type analysis</li><li>Country analysis</li><li>Sector analysis</li>"
   ]
  },
  {
   "cell_type": "code",
   "execution_count": 1,
   "metadata": {
    "collapsed": true
   },
   "outputs": [],
   "source": [
    "#Supress Warnings\n",
    "import warnings\n",
    "warnings.filterwarnings('ignore')\n",
    "\n",
    "#Import libraries\n",
    "import numpy as np\n",
    "import pandas as pd"
   ]
  },
  {
   "cell_type": "markdown",
   "metadata": {},
   "source": [
    "## 1.1 Checkpoint 1: Data Cleaning 1\n",
    "<blockquote><ol><li>Load the companies and rounds data (provided on the previous page) into two data frames and name them companies and rounds2 respectively.</li>\n",
    "<li>Answer the below questions:</li>\n",
    "<ul><li>How many unique companies are present in rounds2?</li>\n",
    "<li>How many unique companies are present in companies?</li>\n",
    "<li>In the companies data frame, which column can be used as the unique key for each company? Write the name of the column.</li>\n",
    "<li>Are there any companies in the rounds2 file which are not present in companies? Answer yes or no: Y/N</li>\n",
    "<li>Merge the two data frames so that all variables (columns) in the companies frame are added to the rounds2 data frame. Name the merged frame master_frame. How many observations are present in master_frame?</li>\n",
    "</blockquote>"
   ]
  },
  {
   "cell_type": "code",
   "execution_count": 2,
   "metadata": {
    "collapsed": true
   },
   "outputs": [],
   "source": [
    "#Create companies dataframe\n",
    "companies_df = pd.read_csv('companies.txt',sep='\\t', encoding='latin')\n",
    "\n",
    "#Create rounds2 dataframe\n",
    "rounds2_df = pd.read_csv('rounds2.csv',encoding='latin')"
   ]
  },
  {
   "cell_type": "code",
   "execution_count": 3,
   "metadata": {},
   "outputs": [
    {
     "name": "stdout",
     "output_type": "stream",
     "text": [
      "<class 'pandas.core.frame.DataFrame'>\n",
      "RangeIndex: 114949 entries, 0 to 114948\n",
      "Data columns (total 6 columns):\n",
      "company_permalink          114949 non-null object\n",
      "funding_round_permalink    114949 non-null object\n",
      "funding_round_type         114949 non-null object\n",
      "funding_round_code         31140 non-null object\n",
      "funded_at                  114949 non-null object\n",
      "raised_amount_usd          94959 non-null float64\n",
      "dtypes: float64(1), object(5)\n",
      "memory usage: 5.3+ MB\n"
     ]
    }
   ],
   "source": [
    "#Row count in Companies table\n",
    "rounds2_df.info()"
   ]
  },
  {
   "cell_type": "code",
   "execution_count": 4,
   "metadata": {},
   "outputs": [
    {
     "data": {
      "text/html": [
       "<div>\n",
       "<style>\n",
       "    .dataframe thead tr:only-child th {\n",
       "        text-align: right;\n",
       "    }\n",
       "\n",
       "    .dataframe thead th {\n",
       "        text-align: left;\n",
       "    }\n",
       "\n",
       "    .dataframe tbody tr th {\n",
       "        vertical-align: top;\n",
       "    }\n",
       "</style>\n",
       "<table border=\"1\" class=\"dataframe\">\n",
       "  <thead>\n",
       "    <tr style=\"text-align: right;\">\n",
       "      <th></th>\n",
       "      <th>company_permalink</th>\n",
       "      <th>funding_round_permalink</th>\n",
       "      <th>funding_round_type</th>\n",
       "      <th>funding_round_code</th>\n",
       "      <th>funded_at</th>\n",
       "      <th>raised_amount_usd</th>\n",
       "    </tr>\n",
       "  </thead>\n",
       "  <tbody>\n",
       "    <tr>\n",
       "      <th>0</th>\n",
       "      <td>/organization/-fame</td>\n",
       "      <td>/funding-round/9a01d05418af9f794eebff7ace91f638</td>\n",
       "      <td>venture</td>\n",
       "      <td>B</td>\n",
       "      <td>05-01-2015</td>\n",
       "      <td>10000000.0</td>\n",
       "    </tr>\n",
       "    <tr>\n",
       "      <th>1</th>\n",
       "      <td>/ORGANIZATION/-QOUNTER</td>\n",
       "      <td>/funding-round/22dacff496eb7acb2b901dec1dfe5633</td>\n",
       "      <td>venture</td>\n",
       "      <td>A</td>\n",
       "      <td>14-10-2014</td>\n",
       "      <td>NaN</td>\n",
       "    </tr>\n",
       "    <tr>\n",
       "      <th>2</th>\n",
       "      <td>/organization/-qounter</td>\n",
       "      <td>/funding-round/b44fbb94153f6cdef13083530bb48030</td>\n",
       "      <td>seed</td>\n",
       "      <td>NaN</td>\n",
       "      <td>01-03-2014</td>\n",
       "      <td>700000.0</td>\n",
       "    </tr>\n",
       "    <tr>\n",
       "      <th>3</th>\n",
       "      <td>/ORGANIZATION/-THE-ONE-OF-THEM-INC-</td>\n",
       "      <td>/funding-round/650b8f704416801069bb178a1418776b</td>\n",
       "      <td>venture</td>\n",
       "      <td>B</td>\n",
       "      <td>30-01-2014</td>\n",
       "      <td>3406878.0</td>\n",
       "    </tr>\n",
       "    <tr>\n",
       "      <th>4</th>\n",
       "      <td>/organization/0-6-com</td>\n",
       "      <td>/funding-round/5727accaeaa57461bd22a9bdd945382d</td>\n",
       "      <td>venture</td>\n",
       "      <td>A</td>\n",
       "      <td>19-03-2008</td>\n",
       "      <td>2000000.0</td>\n",
       "    </tr>\n",
       "    <tr>\n",
       "      <th>5</th>\n",
       "      <td>/ORGANIZATION/004-TECHNOLOGIES</td>\n",
       "      <td>/funding-round/1278dd4e6a37fa4b7d7e06c21b3c1830</td>\n",
       "      <td>venture</td>\n",
       "      <td>NaN</td>\n",
       "      <td>24-07-2014</td>\n",
       "      <td>NaN</td>\n",
       "    </tr>\n",
       "    <tr>\n",
       "      <th>6</th>\n",
       "      <td>/organization/01games-technology</td>\n",
       "      <td>/funding-round/7d53696f2b4f607a2f2a8cbb83d01839</td>\n",
       "      <td>undisclosed</td>\n",
       "      <td>NaN</td>\n",
       "      <td>01-07-2014</td>\n",
       "      <td>41250.0</td>\n",
       "    </tr>\n",
       "    <tr>\n",
       "      <th>7</th>\n",
       "      <td>/ORGANIZATION/0NDINE-BIOMEDICAL-INC</td>\n",
       "      <td>/funding-round/2b9d3ac293d5cdccbecff5c8cb0f327d</td>\n",
       "      <td>seed</td>\n",
       "      <td>NaN</td>\n",
       "      <td>11-09-2009</td>\n",
       "      <td>43360.0</td>\n",
       "    </tr>\n",
       "    <tr>\n",
       "      <th>8</th>\n",
       "      <td>/organization/0ndine-biomedical-inc</td>\n",
       "      <td>/funding-round/954b9499724b946ad8c396a57a5f3b72</td>\n",
       "      <td>venture</td>\n",
       "      <td>NaN</td>\n",
       "      <td>21-12-2009</td>\n",
       "      <td>719491.0</td>\n",
       "    </tr>\n",
       "    <tr>\n",
       "      <th>9</th>\n",
       "      <td>/ORGANIZATION/0XDATA</td>\n",
       "      <td>/funding-round/383a9bd2c04f7038bb543ccef5ba3eae</td>\n",
       "      <td>seed</td>\n",
       "      <td>NaN</td>\n",
       "      <td>22-05-2013</td>\n",
       "      <td>3000000.0</td>\n",
       "    </tr>\n",
       "  </tbody>\n",
       "</table>\n",
       "</div>"
      ],
      "text/plain": [
       "                     company_permalink  \\\n",
       "0                  /organization/-fame   \n",
       "1               /ORGANIZATION/-QOUNTER   \n",
       "2               /organization/-qounter   \n",
       "3  /ORGANIZATION/-THE-ONE-OF-THEM-INC-   \n",
       "4                /organization/0-6-com   \n",
       "5       /ORGANIZATION/004-TECHNOLOGIES   \n",
       "6     /organization/01games-technology   \n",
       "7  /ORGANIZATION/0NDINE-BIOMEDICAL-INC   \n",
       "8  /organization/0ndine-biomedical-inc   \n",
       "9                 /ORGANIZATION/0XDATA   \n",
       "\n",
       "                           funding_round_permalink funding_round_type  \\\n",
       "0  /funding-round/9a01d05418af9f794eebff7ace91f638            venture   \n",
       "1  /funding-round/22dacff496eb7acb2b901dec1dfe5633            venture   \n",
       "2  /funding-round/b44fbb94153f6cdef13083530bb48030               seed   \n",
       "3  /funding-round/650b8f704416801069bb178a1418776b            venture   \n",
       "4  /funding-round/5727accaeaa57461bd22a9bdd945382d            venture   \n",
       "5  /funding-round/1278dd4e6a37fa4b7d7e06c21b3c1830            venture   \n",
       "6  /funding-round/7d53696f2b4f607a2f2a8cbb83d01839        undisclosed   \n",
       "7  /funding-round/2b9d3ac293d5cdccbecff5c8cb0f327d               seed   \n",
       "8  /funding-round/954b9499724b946ad8c396a57a5f3b72            venture   \n",
       "9  /funding-round/383a9bd2c04f7038bb543ccef5ba3eae               seed   \n",
       "\n",
       "  funding_round_code   funded_at  raised_amount_usd  \n",
       "0                  B  05-01-2015         10000000.0  \n",
       "1                  A  14-10-2014                NaN  \n",
       "2                NaN  01-03-2014           700000.0  \n",
       "3                  B  30-01-2014          3406878.0  \n",
       "4                  A  19-03-2008          2000000.0  \n",
       "5                NaN  24-07-2014                NaN  \n",
       "6                NaN  01-07-2014            41250.0  \n",
       "7                NaN  11-09-2009            43360.0  \n",
       "8                NaN  21-12-2009           719491.0  \n",
       "9                NaN  22-05-2013          3000000.0  "
      ]
     },
     "execution_count": 4,
     "metadata": {},
     "output_type": "execute_result"
    }
   ],
   "source": [
    "#Have a look at rounds2 dataframe sample data\n",
    "rounds2_df.head(10)"
   ]
  },
  {
   "cell_type": "code",
   "execution_count": 5,
   "metadata": {
    "collapsed": true
   },
   "outputs": [],
   "source": [
    "#Remove special characters from permalinks\n",
    "rounds2_df['company_permalink']=rounds2_df[['company_permalink']].applymap(lambda x:x.encode('utf-8').decode('ascii', 'ignore'))\n",
    "\n",
    "#It's been observed that same company permalinks are present in both upper and lowercases, hence to make it uniform, making \n",
    "#the permalinks to lowercase\n",
    "rounds2_df['company_permalink']=rounds2_df[['company_permalink']].applymap(lambda x:x.lower())"
   ]
  },
  {
   "cell_type": "code",
   "execution_count": 6,
   "metadata": {},
   "outputs": [
    {
     "name": "stdout",
     "output_type": "stream",
     "text": [
      "66368\n"
     ]
    }
   ],
   "source": [
    "#Find number of unique companies present in rounds2 dataframe\n",
    "print(rounds2_df.company_permalink.nunique(dropna=True))"
   ]
  },
  {
   "cell_type": "markdown",
   "metadata": {},
   "source": [
    "<blockquote>How many <b>unique companies</b> are present in <b>rounds2</b>?<br>\n",
    "Answer:66368 </blockquote>"
   ]
  },
  {
   "cell_type": "code",
   "execution_count": 7,
   "metadata": {},
   "outputs": [
    {
     "name": "stdout",
     "output_type": "stream",
     "text": [
      "<class 'pandas.core.frame.DataFrame'>\n",
      "RangeIndex: 66368 entries, 0 to 66367\n",
      "Data columns (total 10 columns):\n",
      "permalink        66368 non-null object\n",
      "name             66367 non-null object\n",
      "homepage_url     61310 non-null object\n",
      "category_list    63220 non-null object\n",
      "status           66368 non-null object\n",
      "country_code     59410 non-null object\n",
      "state_code       57821 non-null object\n",
      "region           58338 non-null object\n",
      "city             58340 non-null object\n",
      "founded_at       51147 non-null object\n",
      "dtypes: object(10)\n",
      "memory usage: 5.1+ MB\n"
     ]
    }
   ],
   "source": [
    "#Row count in Companies table\n",
    "companies_df.info()"
   ]
  },
  {
   "cell_type": "code",
   "execution_count": 8,
   "metadata": {},
   "outputs": [
    {
     "data": {
      "text/html": [
       "<div>\n",
       "<style>\n",
       "    .dataframe thead tr:only-child th {\n",
       "        text-align: right;\n",
       "    }\n",
       "\n",
       "    .dataframe thead th {\n",
       "        text-align: left;\n",
       "    }\n",
       "\n",
       "    .dataframe tbody tr th {\n",
       "        vertical-align: top;\n",
       "    }\n",
       "</style>\n",
       "<table border=\"1\" class=\"dataframe\">\n",
       "  <thead>\n",
       "    <tr style=\"text-align: right;\">\n",
       "      <th></th>\n",
       "      <th>permalink</th>\n",
       "      <th>name</th>\n",
       "      <th>homepage_url</th>\n",
       "      <th>category_list</th>\n",
       "      <th>status</th>\n",
       "      <th>country_code</th>\n",
       "      <th>state_code</th>\n",
       "      <th>region</th>\n",
       "      <th>city</th>\n",
       "      <th>founded_at</th>\n",
       "    </tr>\n",
       "  </thead>\n",
       "  <tbody>\n",
       "    <tr>\n",
       "      <th>0</th>\n",
       "      <td>/Organization/-Fame</td>\n",
       "      <td>#fame</td>\n",
       "      <td>http://livfame.com</td>\n",
       "      <td>Media</td>\n",
       "      <td>operating</td>\n",
       "      <td>IND</td>\n",
       "      <td>16</td>\n",
       "      <td>Mumbai</td>\n",
       "      <td>Mumbai</td>\n",
       "      <td>NaN</td>\n",
       "    </tr>\n",
       "    <tr>\n",
       "      <th>1</th>\n",
       "      <td>/Organization/-Qounter</td>\n",
       "      <td>:Qounter</td>\n",
       "      <td>http://www.qounter.com</td>\n",
       "      <td>Application Platforms|Real Time|Social Network...</td>\n",
       "      <td>operating</td>\n",
       "      <td>USA</td>\n",
       "      <td>DE</td>\n",
       "      <td>DE - Other</td>\n",
       "      <td>Delaware City</td>\n",
       "      <td>04-09-2014</td>\n",
       "    </tr>\n",
       "    <tr>\n",
       "      <th>2</th>\n",
       "      <td>/Organization/-The-One-Of-Them-Inc-</td>\n",
       "      <td>(THE) ONE of THEM,Inc.</td>\n",
       "      <td>http://oneofthem.jp</td>\n",
       "      <td>Apps|Games|Mobile</td>\n",
       "      <td>operating</td>\n",
       "      <td>NaN</td>\n",
       "      <td>NaN</td>\n",
       "      <td>NaN</td>\n",
       "      <td>NaN</td>\n",
       "      <td>NaN</td>\n",
       "    </tr>\n",
       "    <tr>\n",
       "      <th>3</th>\n",
       "      <td>/Organization/0-6-Com</td>\n",
       "      <td>0-6.com</td>\n",
       "      <td>http://www.0-6.com</td>\n",
       "      <td>Curated Web</td>\n",
       "      <td>operating</td>\n",
       "      <td>CHN</td>\n",
       "      <td>22</td>\n",
       "      <td>Beijing</td>\n",
       "      <td>Beijing</td>\n",
       "      <td>01-01-2007</td>\n",
       "    </tr>\n",
       "    <tr>\n",
       "      <th>4</th>\n",
       "      <td>/Organization/004-Technologies</td>\n",
       "      <td>004 Technologies</td>\n",
       "      <td>http://004gmbh.de/en/004-interact</td>\n",
       "      <td>Software</td>\n",
       "      <td>operating</td>\n",
       "      <td>USA</td>\n",
       "      <td>IL</td>\n",
       "      <td>Springfield, Illinois</td>\n",
       "      <td>Champaign</td>\n",
       "      <td>01-01-2010</td>\n",
       "    </tr>\n",
       "    <tr>\n",
       "      <th>5</th>\n",
       "      <td>/Organization/01Games-Technology</td>\n",
       "      <td>01Games Technology</td>\n",
       "      <td>http://www.01games.hk/</td>\n",
       "      <td>Games</td>\n",
       "      <td>operating</td>\n",
       "      <td>HKG</td>\n",
       "      <td>NaN</td>\n",
       "      <td>Hong Kong</td>\n",
       "      <td>Hong Kong</td>\n",
       "      <td>NaN</td>\n",
       "    </tr>\n",
       "    <tr>\n",
       "      <th>6</th>\n",
       "      <td>/Organization/0Ndine-Biomedical-Inc</td>\n",
       "      <td>Ondine Biomedical Inc.</td>\n",
       "      <td>http://ondinebio.com</td>\n",
       "      <td>Biotechnology</td>\n",
       "      <td>operating</td>\n",
       "      <td>CAN</td>\n",
       "      <td>BC</td>\n",
       "      <td>Vancouver</td>\n",
       "      <td>Vancouver</td>\n",
       "      <td>01-01-1997</td>\n",
       "    </tr>\n",
       "    <tr>\n",
       "      <th>7</th>\n",
       "      <td>/Organization/0Xdata</td>\n",
       "      <td>H2O.ai</td>\n",
       "      <td>http://h2o.ai/</td>\n",
       "      <td>Analytics</td>\n",
       "      <td>operating</td>\n",
       "      <td>USA</td>\n",
       "      <td>CA</td>\n",
       "      <td>SF Bay Area</td>\n",
       "      <td>Mountain View</td>\n",
       "      <td>01-01-2011</td>\n",
       "    </tr>\n",
       "    <tr>\n",
       "      <th>8</th>\n",
       "      <td>/Organization/1</td>\n",
       "      <td>One Inc.</td>\n",
       "      <td>http://whatis1.com</td>\n",
       "      <td>Mobile</td>\n",
       "      <td>operating</td>\n",
       "      <td>USA</td>\n",
       "      <td>CA</td>\n",
       "      <td>SF Bay Area</td>\n",
       "      <td>San Francisco</td>\n",
       "      <td>01-08-2011</td>\n",
       "    </tr>\n",
       "    <tr>\n",
       "      <th>9</th>\n",
       "      <td>/Organization/1-2-3-Listo</td>\n",
       "      <td>1,2,3 Listo</td>\n",
       "      <td>http://www.123listo.com</td>\n",
       "      <td>E-Commerce</td>\n",
       "      <td>operating</td>\n",
       "      <td>CHL</td>\n",
       "      <td>12</td>\n",
       "      <td>Santiago</td>\n",
       "      <td>Las Condes</td>\n",
       "      <td>01-01-2012</td>\n",
       "    </tr>\n",
       "    <tr>\n",
       "      <th>10</th>\n",
       "      <td>/Organization/1-4-All</td>\n",
       "      <td>1-4 All</td>\n",
       "      <td>NaN</td>\n",
       "      <td>Entertainment|Games|Software</td>\n",
       "      <td>operating</td>\n",
       "      <td>USA</td>\n",
       "      <td>NC</td>\n",
       "      <td>NC - Other</td>\n",
       "      <td>Connellys Springs</td>\n",
       "      <td>NaN</td>\n",
       "    </tr>\n",
       "    <tr>\n",
       "      <th>11</th>\n",
       "      <td>/Organization/1-618-Technology</td>\n",
       "      <td>1.618 Technology</td>\n",
       "      <td>http://www.Homeandcondogallery.com</td>\n",
       "      <td>Networking|Real Estate|Web Hosting</td>\n",
       "      <td>operating</td>\n",
       "      <td>USA</td>\n",
       "      <td>FL</td>\n",
       "      <td>Orlando</td>\n",
       "      <td>Orlando</td>\n",
       "      <td>07-12-2013</td>\n",
       "    </tr>\n",
       "    <tr>\n",
       "      <th>12</th>\n",
       "      <td>/Organization/1-800-Dentist</td>\n",
       "      <td>1-800-DENTIST</td>\n",
       "      <td>http://www.1800dentist.com</td>\n",
       "      <td>Health and Wellness</td>\n",
       "      <td>operating</td>\n",
       "      <td>USA</td>\n",
       "      <td>CA</td>\n",
       "      <td>Los Angeles</td>\n",
       "      <td>Los Angeles</td>\n",
       "      <td>01-01-1986</td>\n",
       "    </tr>\n",
       "    <tr>\n",
       "      <th>13</th>\n",
       "      <td>/Organization/1-800-Doctors</td>\n",
       "      <td>1-800-DOCTORS</td>\n",
       "      <td>http://1800doctors.com</td>\n",
       "      <td>Health and Wellness</td>\n",
       "      <td>operating</td>\n",
       "      <td>USA</td>\n",
       "      <td>NJ</td>\n",
       "      <td>Newark</td>\n",
       "      <td>Iselin</td>\n",
       "      <td>01-01-1984</td>\n",
       "    </tr>\n",
       "    <tr>\n",
       "      <th>14</th>\n",
       "      <td>/Organization/1-800-Publicrelations-Inc-</td>\n",
       "      <td>1-800-PublicRelations, Inc.</td>\n",
       "      <td>http://www.1800publicrelations.com</td>\n",
       "      <td>Internet Marketing|Media|Public Relations</td>\n",
       "      <td>operating</td>\n",
       "      <td>USA</td>\n",
       "      <td>NY</td>\n",
       "      <td>New York City</td>\n",
       "      <td>New York</td>\n",
       "      <td>24-10-2013</td>\n",
       "    </tr>\n",
       "    <tr>\n",
       "      <th>15</th>\n",
       "      <td>/Organization/1-Mainstream</td>\n",
       "      <td>1 Mainstream</td>\n",
       "      <td>http://www.1mainstream.com</td>\n",
       "      <td>Apps|Cable|Distribution|Software</td>\n",
       "      <td>acquired</td>\n",
       "      <td>USA</td>\n",
       "      <td>CA</td>\n",
       "      <td>SF Bay Area</td>\n",
       "      <td>Cupertino</td>\n",
       "      <td>01-03-2012</td>\n",
       "    </tr>\n",
       "    <tr>\n",
       "      <th>16</th>\n",
       "      <td>/Organization/1-Of-99</td>\n",
       "      <td>1 of 99</td>\n",
       "      <td>NaN</td>\n",
       "      <td>Entertainment|Games</td>\n",
       "      <td>operating</td>\n",
       "      <td>USA</td>\n",
       "      <td>CA</td>\n",
       "      <td>SF Bay Area</td>\n",
       "      <td>Mountain View</td>\n",
       "      <td>01-12-2014</td>\n",
       "    </tr>\n",
       "    <tr>\n",
       "      <th>17</th>\n",
       "      <td>/Organization/10-20-Media</td>\n",
       "      <td>10-20 Media</td>\n",
       "      <td>http://www.10-20media.com</td>\n",
       "      <td>E-Commerce</td>\n",
       "      <td>operating</td>\n",
       "      <td>USA</td>\n",
       "      <td>MD</td>\n",
       "      <td>Baltimore</td>\n",
       "      <td>Woodbine</td>\n",
       "      <td>01-01-2001</td>\n",
       "    </tr>\n",
       "    <tr>\n",
       "      <th>18</th>\n",
       "      <td>/Organization/10-Minutes-With</td>\n",
       "      <td>10 Minutes With</td>\n",
       "      <td>http://10minuteswith.com</td>\n",
       "      <td>Education</td>\n",
       "      <td>operating</td>\n",
       "      <td>GBR</td>\n",
       "      <td>H9</td>\n",
       "      <td>London</td>\n",
       "      <td>London</td>\n",
       "      <td>01-01-2013</td>\n",
       "    </tr>\n",
       "    <tr>\n",
       "      <th>19</th>\n",
       "      <td>/Organization/1000-Corks</td>\n",
       "      <td>1000 Corks</td>\n",
       "      <td>http://1000corks.com</td>\n",
       "      <td>Search</td>\n",
       "      <td>operating</td>\n",
       "      <td>USA</td>\n",
       "      <td>OR</td>\n",
       "      <td>Portland, Oregon</td>\n",
       "      <td>Lake Oswego</td>\n",
       "      <td>01-01-2008</td>\n",
       "    </tr>\n",
       "    <tr>\n",
       "      <th>20</th>\n",
       "      <td>/Organization/1000-Markets</td>\n",
       "      <td>1000 Markets</td>\n",
       "      <td>http://www.1000markets.com</td>\n",
       "      <td>Art|E-Commerce|Marketplaces</td>\n",
       "      <td>acquired</td>\n",
       "      <td>USA</td>\n",
       "      <td>WA</td>\n",
       "      <td>Seattle</td>\n",
       "      <td>Seattle</td>\n",
       "      <td>01-01-2009</td>\n",
       "    </tr>\n",
       "    <tr>\n",
       "      <th>21</th>\n",
       "      <td>/Organization/1000Chi</td>\n",
       "      <td>Beijing 1000CHI Software Technology</td>\n",
       "      <td>http://www.1000chi.com/</td>\n",
       "      <td>Mobile</td>\n",
       "      <td>operating</td>\n",
       "      <td>NaN</td>\n",
       "      <td>NaN</td>\n",
       "      <td>NaN</td>\n",
       "      <td>NaN</td>\n",
       "      <td>01-01-2008</td>\n",
       "    </tr>\n",
       "    <tr>\n",
       "      <th>22</th>\n",
       "      <td>/Organization/1000Lookz</td>\n",
       "      <td>1000Lookz</td>\n",
       "      <td>http://1000lookz.com</td>\n",
       "      <td>Beauty</td>\n",
       "      <td>operating</td>\n",
       "      <td>IND</td>\n",
       "      <td>25</td>\n",
       "      <td>Chennai</td>\n",
       "      <td>Chennai</td>\n",
       "      <td>01-01-2008</td>\n",
       "    </tr>\n",
       "    <tr>\n",
       "      <th>23</th>\n",
       "      <td>/Organization/1000Memories</td>\n",
       "      <td>1000memories</td>\n",
       "      <td>http://1000memories.com</td>\n",
       "      <td>Curated Web</td>\n",
       "      <td>acquired</td>\n",
       "      <td>USA</td>\n",
       "      <td>CA</td>\n",
       "      <td>SF Bay Area</td>\n",
       "      <td>San Francisco</td>\n",
       "      <td>01-07-2010</td>\n",
       "    </tr>\n",
       "    <tr>\n",
       "      <th>24</th>\n",
       "      <td>/Organization/1000Museums-Com</td>\n",
       "      <td>1000museums.com</td>\n",
       "      <td>http://www.1000museums.com</td>\n",
       "      <td>Curated Web</td>\n",
       "      <td>operating</td>\n",
       "      <td>USA</td>\n",
       "      <td>MA</td>\n",
       "      <td>MA - Other</td>\n",
       "      <td>Lenox</td>\n",
       "      <td>01-01-2008</td>\n",
       "    </tr>\n",
       "    <tr>\n",
       "      <th>25</th>\n",
       "      <td>/Organization/1001-Menus</td>\n",
       "      <td>ZenChef</td>\n",
       "      <td>http://zenchef.com/en/</td>\n",
       "      <td>Local Businesses|Restaurants</td>\n",
       "      <td>operating</td>\n",
       "      <td>FRA</td>\n",
       "      <td>A8</td>\n",
       "      <td>Paris</td>\n",
       "      <td>Paris</td>\n",
       "      <td>20-11-2010</td>\n",
       "    </tr>\n",
       "    <tr>\n",
       "      <th>26</th>\n",
       "      <td>/Organization/1001Pharmacies-Com</td>\n",
       "      <td>1001pharmacies.com</td>\n",
       "      <td>http://www.1001pharmacies.com/</td>\n",
       "      <td>Cosmetics|Marketplaces</td>\n",
       "      <td>operating</td>\n",
       "      <td>FRA</td>\n",
       "      <td>A9</td>\n",
       "      <td>Montpellier</td>\n",
       "      <td>Montpellier</td>\n",
       "      <td>01-01-2012</td>\n",
       "    </tr>\n",
       "    <tr>\n",
       "      <th>27</th>\n",
       "      <td>/Organization/1006-Tv</td>\n",
       "      <td>1006.tv</td>\n",
       "      <td>http://www.1006.tv/</td>\n",
       "      <td>Games|Media</td>\n",
       "      <td>operating</td>\n",
       "      <td>CHN</td>\n",
       "      <td>22</td>\n",
       "      <td>Beijing</td>\n",
       "      <td>Beijing</td>\n",
       "      <td>01-01-2009</td>\n",
       "    </tr>\n",
       "    <tr>\n",
       "      <th>28</th>\n",
       "      <td>/Organization/100Du-Tv</td>\n",
       "      <td>100du.tv</td>\n",
       "      <td>http://www.100du.com</td>\n",
       "      <td>Hospitality</td>\n",
       "      <td>operating</td>\n",
       "      <td>CHN</td>\n",
       "      <td>23</td>\n",
       "      <td>Shanghai</td>\n",
       "      <td>Shanghai</td>\n",
       "      <td>NaN</td>\n",
       "    </tr>\n",
       "    <tr>\n",
       "      <th>29</th>\n",
       "      <td>/Organization/100E-Com</td>\n",
       "      <td>100e.com</td>\n",
       "      <td>http://www.100e.com</td>\n",
       "      <td>Education</td>\n",
       "      <td>operating</td>\n",
       "      <td>CHN</td>\n",
       "      <td>22</td>\n",
       "      <td>Beijing</td>\n",
       "      <td>Beijing</td>\n",
       "      <td>NaN</td>\n",
       "    </tr>\n",
       "    <tr>\n",
       "      <th>...</th>\n",
       "      <td>...</td>\n",
       "      <td>...</td>\n",
       "      <td>...</td>\n",
       "      <td>...</td>\n",
       "      <td>...</td>\n",
       "      <td>...</td>\n",
       "      <td>...</td>\n",
       "      <td>...</td>\n",
       "      <td>...</td>\n",
       "      <td>...</td>\n",
       "    </tr>\n",
       "    <tr>\n",
       "      <th>70</th>\n",
       "      <td>/Organization/1417</td>\n",
       "      <td>1417</td>\n",
       "      <td>http://1417power.com</td>\n",
       "      <td>Finance|Venture Capital</td>\n",
       "      <td>operating</td>\n",
       "      <td>USA</td>\n",
       "      <td>TN</td>\n",
       "      <td>Nashville</td>\n",
       "      <td>Brentwood</td>\n",
       "      <td>12-01-2012</td>\n",
       "    </tr>\n",
       "    <tr>\n",
       "      <th>71</th>\n",
       "      <td>/Organization/15Fen</td>\n",
       "      <td>15Fen</td>\n",
       "      <td>http://www.15fen.com/</td>\n",
       "      <td>NaN</td>\n",
       "      <td>operating</td>\n",
       "      <td>CHN</td>\n",
       "      <td>30</td>\n",
       "      <td>Guangzhou</td>\n",
       "      <td>Guangzhou</td>\n",
       "      <td>NaN</td>\n",
       "    </tr>\n",
       "    <tr>\n",
       "      <th>72</th>\n",
       "      <td>/Organization/15Five</td>\n",
       "      <td>15Five</td>\n",
       "      <td>http://15five.com</td>\n",
       "      <td>Software</td>\n",
       "      <td>operating</td>\n",
       "      <td>USA</td>\n",
       "      <td>CA</td>\n",
       "      <td>SF Bay Area</td>\n",
       "      <td>San Francisco</td>\n",
       "      <td>01-05-2011</td>\n",
       "    </tr>\n",
       "    <tr>\n",
       "      <th>73</th>\n",
       "      <td>/Organization/15Minutesnow</td>\n",
       "      <td>15MinutesNOW</td>\n",
       "      <td>http://15minutesnow.com</td>\n",
       "      <td>Games</td>\n",
       "      <td>operating</td>\n",
       "      <td>NaN</td>\n",
       "      <td>NaN</td>\n",
       "      <td>NaN</td>\n",
       "      <td>NaN</td>\n",
       "      <td>19-04-2011</td>\n",
       "    </tr>\n",
       "    <tr>\n",
       "      <th>74</th>\n",
       "      <td>/Organization/15Shopstop</td>\n",
       "      <td>15ShopStop</td>\n",
       "      <td>http://15shopstop.com</td>\n",
       "      <td>Fashion</td>\n",
       "      <td>operating</td>\n",
       "      <td>USA</td>\n",
       "      <td>CA</td>\n",
       "      <td>Los Angeles</td>\n",
       "      <td>Los Angeles</td>\n",
       "      <td>17-11-2014</td>\n",
       "    </tr>\n",
       "    <tr>\n",
       "      <th>75</th>\n",
       "      <td>/Organization/16-Mile-Solutions</td>\n",
       "      <td>16 Mile Solutions</td>\n",
       "      <td>NaN</td>\n",
       "      <td>Software</td>\n",
       "      <td>operating</td>\n",
       "      <td>USA</td>\n",
       "      <td>WA</td>\n",
       "      <td>Seattle</td>\n",
       "      <td>Seattle</td>\n",
       "      <td>01-01-2006</td>\n",
       "    </tr>\n",
       "    <tr>\n",
       "      <th>76</th>\n",
       "      <td>/Organization/169-St</td>\n",
       "      <td>169 ST.</td>\n",
       "      <td>http://www.junebugreview.com</td>\n",
       "      <td>Entertainment|Games</td>\n",
       "      <td>closed</td>\n",
       "      <td>USA</td>\n",
       "      <td>FL</td>\n",
       "      <td>Orlando</td>\n",
       "      <td>Lake Mary</td>\n",
       "      <td>15-05-2009</td>\n",
       "    </tr>\n",
       "    <tr>\n",
       "      <th>77</th>\n",
       "      <td>/Organization/16Lab-Inc-</td>\n",
       "      <td>16Lab Inc.</td>\n",
       "      <td>http://16lab.net</td>\n",
       "      <td>Design|Development Platforms|Wearables</td>\n",
       "      <td>operating</td>\n",
       "      <td>JPN</td>\n",
       "      <td>19</td>\n",
       "      <td>JPN - Other</td>\n",
       "      <td>Kamakura</td>\n",
       "      <td>24-04-2013</td>\n",
       "    </tr>\n",
       "    <tr>\n",
       "      <th>78</th>\n",
       "      <td>/Organization/16Wifi</td>\n",
       "      <td>16WiFi</td>\n",
       "      <td>NaN</td>\n",
       "      <td>Public Transportation</td>\n",
       "      <td>operating</td>\n",
       "      <td>CHN</td>\n",
       "      <td>22</td>\n",
       "      <td>Beijing</td>\n",
       "      <td>Beijing</td>\n",
       "      <td>01-01-2011</td>\n",
       "    </tr>\n",
       "    <tr>\n",
       "      <th>79</th>\n",
       "      <td>/Organization/17-Media</td>\n",
       "      <td>17 Media</td>\n",
       "      <td>http://17.media</td>\n",
       "      <td>NaN</td>\n",
       "      <td>operating</td>\n",
       "      <td>NaN</td>\n",
       "      <td>NaN</td>\n",
       "      <td>NaN</td>\n",
       "      <td>NaN</td>\n",
       "      <td>15-07-2015</td>\n",
       "    </tr>\n",
       "    <tr>\n",
       "      <th>80</th>\n",
       "      <td>/Organization/170-Systems</td>\n",
       "      <td>170 Systems</td>\n",
       "      <td>http://www.170systems.com</td>\n",
       "      <td>Software</td>\n",
       "      <td>acquired</td>\n",
       "      <td>USA</td>\n",
       "      <td>MA</td>\n",
       "      <td>Boston</td>\n",
       "      <td>Bedford</td>\n",
       "      <td>01-01-1990</td>\n",
       "    </tr>\n",
       "    <tr>\n",
       "      <th>81</th>\n",
       "      <td>/Organization/17Hats</td>\n",
       "      <td>17hats</td>\n",
       "      <td>https://www.17hats.com</td>\n",
       "      <td>Internet</td>\n",
       "      <td>operating</td>\n",
       "      <td>USA</td>\n",
       "      <td>CA</td>\n",
       "      <td>Los Angeles</td>\n",
       "      <td>Los Angeles</td>\n",
       "      <td>01-01-2014</td>\n",
       "    </tr>\n",
       "    <tr>\n",
       "      <th>82</th>\n",
       "      <td>/Organization/17U-Cn</td>\n",
       "      <td>17u.cn</td>\n",
       "      <td>http://www.17u.cn</td>\n",
       "      <td>Travel</td>\n",
       "      <td>operating</td>\n",
       "      <td>CHN</td>\n",
       "      <td>4</td>\n",
       "      <td>Shanghai</td>\n",
       "      <td>Suzhou</td>\n",
       "      <td>01-01-2004</td>\n",
       "    </tr>\n",
       "    <tr>\n",
       "      <th>83</th>\n",
       "      <td>/Organization/17Zuoye</td>\n",
       "      <td>17zuoye</td>\n",
       "      <td>http://www.17zuoye.com/</td>\n",
       "      <td>Education|Language Learning</td>\n",
       "      <td>operating</td>\n",
       "      <td>USA</td>\n",
       "      <td>VA</td>\n",
       "      <td>VA - Other</td>\n",
       "      <td>Shanghai</td>\n",
       "      <td>01-01-2007</td>\n",
       "    </tr>\n",
       "    <tr>\n",
       "      <th>84</th>\n",
       "      <td>/Organization/1800Diapers</td>\n",
       "      <td>1800Diapers</td>\n",
       "      <td>NaN</td>\n",
       "      <td>Baby Accessories|Kids</td>\n",
       "      <td>operating</td>\n",
       "      <td>NaN</td>\n",
       "      <td>NaN</td>\n",
       "      <td>NaN</td>\n",
       "      <td>NaN</td>\n",
       "      <td>NaN</td>\n",
       "    </tr>\n",
       "    <tr>\n",
       "      <th>85</th>\n",
       "      <td>/Organization/180Solutions</td>\n",
       "      <td>180Solutions</td>\n",
       "      <td>NaN</td>\n",
       "      <td>Advertising|Advertising Platforms|Promotional</td>\n",
       "      <td>closed</td>\n",
       "      <td>USA</td>\n",
       "      <td>WA</td>\n",
       "      <td>Seattle</td>\n",
       "      <td>Bellevue</td>\n",
       "      <td>NaN</td>\n",
       "    </tr>\n",
       "    <tr>\n",
       "      <th>86</th>\n",
       "      <td>/Organization/1871</td>\n",
       "      <td>1871</td>\n",
       "      <td>http://www.1871.com</td>\n",
       "      <td>Designers|Internet|Non Profit|Startups</td>\n",
       "      <td>operating</td>\n",
       "      <td>USA</td>\n",
       "      <td>IL</td>\n",
       "      <td>Chicago</td>\n",
       "      <td>Chicago</td>\n",
       "      <td>NaN</td>\n",
       "    </tr>\n",
       "    <tr>\n",
       "      <th>87</th>\n",
       "      <td>/Organization/19Pay</td>\n",
       "      <td>19pay</td>\n",
       "      <td>http://www.19pay.com.cn</td>\n",
       "      <td>Finance|FinTech</td>\n",
       "      <td>operating</td>\n",
       "      <td>CHN</td>\n",
       "      <td>22</td>\n",
       "      <td>Beijing</td>\n",
       "      <td>Beijing</td>\n",
       "      <td>01-01-2005</td>\n",
       "    </tr>\n",
       "    <tr>\n",
       "      <th>88</th>\n",
       "      <td>/Organization/1Bib</td>\n",
       "      <td>1bib</td>\n",
       "      <td>http://www.1bib.com</td>\n",
       "      <td>Cars|Curated Web</td>\n",
       "      <td>closed</td>\n",
       "      <td>CHN</td>\n",
       "      <td>30</td>\n",
       "      <td>Guangzhou</td>\n",
       "      <td>Guangzhou</td>\n",
       "      <td>01-01-2006</td>\n",
       "    </tr>\n",
       "    <tr>\n",
       "      <th>89</th>\n",
       "      <td>/Organization/1Bog</td>\n",
       "      <td>One Block Off the Grid (1BOG)</td>\n",
       "      <td>http://1bog.org</td>\n",
       "      <td>Clean Technology|Residential Solar</td>\n",
       "      <td>closed</td>\n",
       "      <td>USA</td>\n",
       "      <td>CA</td>\n",
       "      <td>SF Bay Area</td>\n",
       "      <td>San Francisco</td>\n",
       "      <td>01-11-2008</td>\n",
       "    </tr>\n",
       "    <tr>\n",
       "      <th>90</th>\n",
       "      <td>/Organization/1C-Company</td>\n",
       "      <td>1C Company</td>\n",
       "      <td>http://1c.ru/eng</td>\n",
       "      <td>Games|Software|Video Games</td>\n",
       "      <td>closed</td>\n",
       "      <td>RUS</td>\n",
       "      <td>48</td>\n",
       "      <td>Moscow</td>\n",
       "      <td>Moscow</td>\n",
       "      <td>01-01-1991</td>\n",
       "    </tr>\n",
       "    <tr>\n",
       "      <th>91</th>\n",
       "      <td>/Organization/1Calendar</td>\n",
       "      <td>1calendar</td>\n",
       "      <td>http://1calendar.com</td>\n",
       "      <td>Advertising|Education|Internet|Mobile</td>\n",
       "      <td>operating</td>\n",
       "      <td>DNK</td>\n",
       "      <td>17</td>\n",
       "      <td>Copenhagen</td>\n",
       "      <td>Copenhagen</td>\n",
       "      <td>19-01-2009</td>\n",
       "    </tr>\n",
       "    <tr>\n",
       "      <th>92</th>\n",
       "      <td>/Organization/1Cast</td>\n",
       "      <td>1Cast</td>\n",
       "      <td>http://www.1cast.com</td>\n",
       "      <td>Content|Lifestyle|News|Video</td>\n",
       "      <td>closed</td>\n",
       "      <td>USA</td>\n",
       "      <td>WA</td>\n",
       "      <td>Seattle</td>\n",
       "      <td>Kirkland</td>\n",
       "      <td>01-06-2006</td>\n",
       "    </tr>\n",
       "    <tr>\n",
       "      <th>93</th>\n",
       "      <td>/Organization/1Click</td>\n",
       "      <td>1CLICK</td>\n",
       "      <td>http://1click.io</td>\n",
       "      <td>Chat|Mobile</td>\n",
       "      <td>acquired</td>\n",
       "      <td>IND</td>\n",
       "      <td>19</td>\n",
       "      <td>Bangalore</td>\n",
       "      <td>Bangalore</td>\n",
       "      <td>01-11-2012</td>\n",
       "    </tr>\n",
       "    <tr>\n",
       "      <th>94</th>\n",
       "      <td>/Organization/1Cloudstar-Asia</td>\n",
       "      <td>1CloudStar</td>\n",
       "      <td>http://www.1CloudStar.com</td>\n",
       "      <td>Cloud Computing|Content|Digital Media|Enterpri...</td>\n",
       "      <td>operating</td>\n",
       "      <td>SGP</td>\n",
       "      <td>NaN</td>\n",
       "      <td>Singapore</td>\n",
       "      <td>Singapore</td>\n",
       "      <td>01-01-2012</td>\n",
       "    </tr>\n",
       "    <tr>\n",
       "      <th>95</th>\n",
       "      <td>/Organization/1Commmedical</td>\n",
       "      <td>1CommMedical</td>\n",
       "      <td>http://1commmedical.com</td>\n",
       "      <td>Health Care|Insurance|Medical</td>\n",
       "      <td>operating</td>\n",
       "      <td>USA</td>\n",
       "      <td>IA</td>\n",
       "      <td>Des Moines</td>\n",
       "      <td>Ankeny</td>\n",
       "      <td>01-01-2013</td>\n",
       "    </tr>\n",
       "    <tr>\n",
       "      <th>96</th>\n",
       "      <td>/Organization/1D4-Pty</td>\n",
       "      <td>1d4 Pty</td>\n",
       "      <td>http://www.immortaloutdoors.com</td>\n",
       "      <td>Geospatial|Maps|Outdoors</td>\n",
       "      <td>operating</td>\n",
       "      <td>NOR</td>\n",
       "      <td>2</td>\n",
       "      <td>NaN</td>\n",
       "      <td>NaN</td>\n",
       "      <td>NaN</td>\n",
       "    </tr>\n",
       "    <tr>\n",
       "      <th>97</th>\n",
       "      <td>/Organization/1Day1Song</td>\n",
       "      <td>1Day1Song</td>\n",
       "      <td>http://1day1song.com/</td>\n",
       "      <td>Music Services</td>\n",
       "      <td>operating</td>\n",
       "      <td>KOR</td>\n",
       "      <td>11</td>\n",
       "      <td>Seoul</td>\n",
       "      <td>Seoul</td>\n",
       "      <td>01-12-2012</td>\n",
       "    </tr>\n",
       "    <tr>\n",
       "      <th>98</th>\n",
       "      <td>/Organization/1Daylater</td>\n",
       "      <td>1DayLater</td>\n",
       "      <td>http://1daylater.com</td>\n",
       "      <td>Curated Web|Tracking</td>\n",
       "      <td>closed</td>\n",
       "      <td>AUS</td>\n",
       "      <td>2</td>\n",
       "      <td>Sydney</td>\n",
       "      <td>Newcastle</td>\n",
       "      <td>26-08-2009</td>\n",
       "    </tr>\n",
       "    <tr>\n",
       "      <th>99</th>\n",
       "      <td>/Organization/1Daymakeover</td>\n",
       "      <td>1DayMakeover</td>\n",
       "      <td>http://www.1daymakeover.com</td>\n",
       "      <td>Cosmetics|E-Commerce|Fashion|Lifestyle|Persona...</td>\n",
       "      <td>closed</td>\n",
       "      <td>USA</td>\n",
       "      <td>CA</td>\n",
       "      <td>Orange County, California</td>\n",
       "      <td>Santa Ana</td>\n",
       "      <td>30-06-2008</td>\n",
       "    </tr>\n",
       "  </tbody>\n",
       "</table>\n",
       "<p>100 rows × 10 columns</p>\n",
       "</div>"
      ],
      "text/plain": [
       "                                   permalink  \\\n",
       "0                        /Organization/-Fame   \n",
       "1                     /Organization/-Qounter   \n",
       "2        /Organization/-The-One-Of-Them-Inc-   \n",
       "3                      /Organization/0-6-Com   \n",
       "4             /Organization/004-Technologies   \n",
       "5           /Organization/01Games-Technology   \n",
       "6        /Organization/0Ndine-Biomedical-Inc   \n",
       "7                       /Organization/0Xdata   \n",
       "8                            /Organization/1   \n",
       "9                  /Organization/1-2-3-Listo   \n",
       "10                     /Organization/1-4-All   \n",
       "11            /Organization/1-618-Technology   \n",
       "12               /Organization/1-800-Dentist   \n",
       "13               /Organization/1-800-Doctors   \n",
       "14  /Organization/1-800-Publicrelations-Inc-   \n",
       "15                /Organization/1-Mainstream   \n",
       "16                     /Organization/1-Of-99   \n",
       "17                 /Organization/10-20-Media   \n",
       "18             /Organization/10-Minutes-With   \n",
       "19                  /Organization/1000-Corks   \n",
       "20                /Organization/1000-Markets   \n",
       "21                     /Organization/1000Chi   \n",
       "22                   /Organization/1000Lookz   \n",
       "23                /Organization/1000Memories   \n",
       "24             /Organization/1000Museums-Com   \n",
       "25                  /Organization/1001-Menus   \n",
       "26          /Organization/1001Pharmacies-Com   \n",
       "27                     /Organization/1006-Tv   \n",
       "28                    /Organization/100Du-Tv   \n",
       "29                    /Organization/100E-Com   \n",
       "..                                       ...   \n",
       "70                        /Organization/1417   \n",
       "71                       /Organization/15Fen   \n",
       "72                      /Organization/15Five   \n",
       "73                /Organization/15Minutesnow   \n",
       "74                  /Organization/15Shopstop   \n",
       "75           /Organization/16-Mile-Solutions   \n",
       "76                      /Organization/169-St   \n",
       "77                  /Organization/16Lab-Inc-   \n",
       "78                      /Organization/16Wifi   \n",
       "79                    /Organization/17-Media   \n",
       "80                 /Organization/170-Systems   \n",
       "81                      /Organization/17Hats   \n",
       "82                      /Organization/17U-Cn   \n",
       "83                     /Organization/17Zuoye   \n",
       "84                 /Organization/1800Diapers   \n",
       "85                /Organization/180Solutions   \n",
       "86                        /Organization/1871   \n",
       "87                       /Organization/19Pay   \n",
       "88                        /Organization/1Bib   \n",
       "89                        /Organization/1Bog   \n",
       "90                  /Organization/1C-Company   \n",
       "91                   /Organization/1Calendar   \n",
       "92                       /Organization/1Cast   \n",
       "93                      /Organization/1Click   \n",
       "94             /Organization/1Cloudstar-Asia   \n",
       "95                /Organization/1Commmedical   \n",
       "96                     /Organization/1D4-Pty   \n",
       "97                   /Organization/1Day1Song   \n",
       "98                   /Organization/1Daylater   \n",
       "99                /Organization/1Daymakeover   \n",
       "\n",
       "                                   name                        homepage_url  \\\n",
       "0                                 #fame                  http://livfame.com   \n",
       "1                              :Qounter              http://www.qounter.com   \n",
       "2                (THE) ONE of THEM,Inc.                 http://oneofthem.jp   \n",
       "3                               0-6.com                  http://www.0-6.com   \n",
       "4                      004 Technologies   http://004gmbh.de/en/004-interact   \n",
       "5                    01Games Technology              http://www.01games.hk/   \n",
       "6                Ondine Biomedical Inc.                http://ondinebio.com   \n",
       "7                                H2O.ai                      http://h2o.ai/   \n",
       "8                              One Inc.                  http://whatis1.com   \n",
       "9                           1,2,3 Listo             http://www.123listo.com   \n",
       "10                              1-4 All                                 NaN   \n",
       "11                     1.618 Technology  http://www.Homeandcondogallery.com   \n",
       "12                        1-800-DENTIST          http://www.1800dentist.com   \n",
       "13                        1-800-DOCTORS              http://1800doctors.com   \n",
       "14          1-800-PublicRelations, Inc.  http://www.1800publicrelations.com   \n",
       "15                         1 Mainstream          http://www.1mainstream.com   \n",
       "16                              1 of 99                                 NaN   \n",
       "17                          10-20 Media           http://www.10-20media.com   \n",
       "18                      10 Minutes With            http://10minuteswith.com   \n",
       "19                           1000 Corks                http://1000corks.com   \n",
       "20                         1000 Markets          http://www.1000markets.com   \n",
       "21  Beijing 1000CHI Software Technology             http://www.1000chi.com/   \n",
       "22                            1000Lookz                http://1000lookz.com   \n",
       "23                         1000memories             http://1000memories.com   \n",
       "24                      1000museums.com          http://www.1000museums.com   \n",
       "25                              ZenChef              http://zenchef.com/en/   \n",
       "26                   1001pharmacies.com      http://www.1001pharmacies.com/   \n",
       "27                              1006.tv                 http://www.1006.tv/   \n",
       "28                             100du.tv                http://www.100du.com   \n",
       "29                             100e.com                 http://www.100e.com   \n",
       "..                                  ...                                 ...   \n",
       "70                                 1417                http://1417power.com   \n",
       "71                                15Fen               http://www.15fen.com/   \n",
       "72                               15Five                   http://15five.com   \n",
       "73                         15MinutesNOW             http://15minutesnow.com   \n",
       "74                           15ShopStop               http://15shopstop.com   \n",
       "75                    16 Mile Solutions                                 NaN   \n",
       "76                              169 ST.        http://www.junebugreview.com   \n",
       "77                           16Lab Inc.                    http://16lab.net   \n",
       "78                               16WiFi                                 NaN   \n",
       "79                             17 Media                     http://17.media   \n",
       "80                          170 Systems           http://www.170systems.com   \n",
       "81                               17hats              https://www.17hats.com   \n",
       "82                               17u.cn                   http://www.17u.cn   \n",
       "83                              17zuoye             http://www.17zuoye.com/   \n",
       "84                          1800Diapers                                 NaN   \n",
       "85                         180Solutions                                 NaN   \n",
       "86                                 1871                 http://www.1871.com   \n",
       "87                                19pay             http://www.19pay.com.cn   \n",
       "88                                 1bib                 http://www.1bib.com   \n",
       "89        One Block Off the Grid (1BOG)                     http://1bog.org   \n",
       "90                           1C Company                    http://1c.ru/eng   \n",
       "91                            1calendar                http://1calendar.com   \n",
       "92                                1Cast                http://www.1cast.com   \n",
       "93                               1CLICK                    http://1click.io   \n",
       "94                           1CloudStar           http://www.1CloudStar.com   \n",
       "95                         1CommMedical             http://1commmedical.com   \n",
       "96                              1d4 Pty     http://www.immortaloutdoors.com   \n",
       "97                            1Day1Song               http://1day1song.com/   \n",
       "98                            1DayLater                http://1daylater.com   \n",
       "99                         1DayMakeover         http://www.1daymakeover.com   \n",
       "\n",
       "                                        category_list     status country_code  \\\n",
       "0                                               Media  operating          IND   \n",
       "1   Application Platforms|Real Time|Social Network...  operating          USA   \n",
       "2                                   Apps|Games|Mobile  operating          NaN   \n",
       "3                                         Curated Web  operating          CHN   \n",
       "4                                            Software  operating          USA   \n",
       "5                                               Games  operating          HKG   \n",
       "6                                       Biotechnology  operating          CAN   \n",
       "7                                           Analytics  operating          USA   \n",
       "8                                              Mobile  operating          USA   \n",
       "9                                          E-Commerce  operating          CHL   \n",
       "10                       Entertainment|Games|Software  operating          USA   \n",
       "11                 Networking|Real Estate|Web Hosting  operating          USA   \n",
       "12                                Health and Wellness  operating          USA   \n",
       "13                                Health and Wellness  operating          USA   \n",
       "14          Internet Marketing|Media|Public Relations  operating          USA   \n",
       "15                   Apps|Cable|Distribution|Software   acquired          USA   \n",
       "16                                Entertainment|Games  operating          USA   \n",
       "17                                         E-Commerce  operating          USA   \n",
       "18                                          Education  operating          GBR   \n",
       "19                                             Search  operating          USA   \n",
       "20                        Art|E-Commerce|Marketplaces   acquired          USA   \n",
       "21                                             Mobile  operating          NaN   \n",
       "22                                             Beauty  operating          IND   \n",
       "23                                        Curated Web   acquired          USA   \n",
       "24                                        Curated Web  operating          USA   \n",
       "25                       Local Businesses|Restaurants  operating          FRA   \n",
       "26                             Cosmetics|Marketplaces  operating          FRA   \n",
       "27                                        Games|Media  operating          CHN   \n",
       "28                                        Hospitality  operating          CHN   \n",
       "29                                          Education  operating          CHN   \n",
       "..                                                ...        ...          ...   \n",
       "70                            Finance|Venture Capital  operating          USA   \n",
       "71                                                NaN  operating          CHN   \n",
       "72                                           Software  operating          USA   \n",
       "73                                              Games  operating          NaN   \n",
       "74                                            Fashion  operating          USA   \n",
       "75                                           Software  operating          USA   \n",
       "76                                Entertainment|Games     closed          USA   \n",
       "77             Design|Development Platforms|Wearables  operating          JPN   \n",
       "78                              Public Transportation  operating          CHN   \n",
       "79                                                NaN  operating          NaN   \n",
       "80                                           Software   acquired          USA   \n",
       "81                                           Internet  operating          USA   \n",
       "82                                             Travel  operating          CHN   \n",
       "83                        Education|Language Learning  operating          USA   \n",
       "84                              Baby Accessories|Kids  operating          NaN   \n",
       "85      Advertising|Advertising Platforms|Promotional     closed          USA   \n",
       "86             Designers|Internet|Non Profit|Startups  operating          USA   \n",
       "87                                    Finance|FinTech  operating          CHN   \n",
       "88                                   Cars|Curated Web     closed          CHN   \n",
       "89                 Clean Technology|Residential Solar     closed          USA   \n",
       "90                         Games|Software|Video Games     closed          RUS   \n",
       "91              Advertising|Education|Internet|Mobile  operating          DNK   \n",
       "92                       Content|Lifestyle|News|Video     closed          USA   \n",
       "93                                        Chat|Mobile   acquired          IND   \n",
       "94  Cloud Computing|Content|Digital Media|Enterpri...  operating          SGP   \n",
       "95                      Health Care|Insurance|Medical  operating          USA   \n",
       "96                           Geospatial|Maps|Outdoors  operating          NOR   \n",
       "97                                     Music Services  operating          KOR   \n",
       "98                               Curated Web|Tracking     closed          AUS   \n",
       "99  Cosmetics|E-Commerce|Fashion|Lifestyle|Persona...     closed          USA   \n",
       "\n",
       "   state_code                     region               city  founded_at  \n",
       "0          16                     Mumbai             Mumbai         NaN  \n",
       "1          DE                 DE - Other      Delaware City  04-09-2014  \n",
       "2         NaN                        NaN                NaN         NaN  \n",
       "3          22                    Beijing            Beijing  01-01-2007  \n",
       "4          IL      Springfield, Illinois          Champaign  01-01-2010  \n",
       "5         NaN                  Hong Kong          Hong Kong         NaN  \n",
       "6          BC                  Vancouver          Vancouver  01-01-1997  \n",
       "7          CA                SF Bay Area      Mountain View  01-01-2011  \n",
       "8          CA                SF Bay Area      San Francisco  01-08-2011  \n",
       "9          12                   Santiago         Las Condes  01-01-2012  \n",
       "10         NC                 NC - Other  Connellys Springs         NaN  \n",
       "11         FL                    Orlando            Orlando  07-12-2013  \n",
       "12         CA                Los Angeles        Los Angeles  01-01-1986  \n",
       "13         NJ                     Newark             Iselin  01-01-1984  \n",
       "14         NY              New York City           New York  24-10-2013  \n",
       "15         CA                SF Bay Area          Cupertino  01-03-2012  \n",
       "16         CA                SF Bay Area      Mountain View  01-12-2014  \n",
       "17         MD                  Baltimore           Woodbine  01-01-2001  \n",
       "18         H9                     London             London  01-01-2013  \n",
       "19         OR           Portland, Oregon        Lake Oswego  01-01-2008  \n",
       "20         WA                    Seattle            Seattle  01-01-2009  \n",
       "21        NaN                        NaN                NaN  01-01-2008  \n",
       "22         25                    Chennai            Chennai  01-01-2008  \n",
       "23         CA                SF Bay Area      San Francisco  01-07-2010  \n",
       "24         MA                 MA - Other              Lenox  01-01-2008  \n",
       "25         A8                      Paris              Paris  20-11-2010  \n",
       "26         A9                Montpellier        Montpellier  01-01-2012  \n",
       "27         22                    Beijing            Beijing  01-01-2009  \n",
       "28         23                   Shanghai           Shanghai         NaN  \n",
       "29         22                    Beijing            Beijing         NaN  \n",
       "..        ...                        ...                ...         ...  \n",
       "70         TN                  Nashville          Brentwood  12-01-2012  \n",
       "71         30                  Guangzhou          Guangzhou         NaN  \n",
       "72         CA                SF Bay Area      San Francisco  01-05-2011  \n",
       "73        NaN                        NaN                NaN  19-04-2011  \n",
       "74         CA                Los Angeles        Los Angeles  17-11-2014  \n",
       "75         WA                    Seattle            Seattle  01-01-2006  \n",
       "76         FL                    Orlando          Lake Mary  15-05-2009  \n",
       "77         19                JPN - Other           Kamakura  24-04-2013  \n",
       "78         22                    Beijing            Beijing  01-01-2011  \n",
       "79        NaN                        NaN                NaN  15-07-2015  \n",
       "80         MA                     Boston            Bedford  01-01-1990  \n",
       "81         CA                Los Angeles        Los Angeles  01-01-2014  \n",
       "82          4                   Shanghai             Suzhou  01-01-2004  \n",
       "83         VA                 VA - Other           Shanghai  01-01-2007  \n",
       "84        NaN                        NaN                NaN         NaN  \n",
       "85         WA                    Seattle           Bellevue         NaN  \n",
       "86         IL                    Chicago            Chicago         NaN  \n",
       "87         22                    Beijing            Beijing  01-01-2005  \n",
       "88         30                  Guangzhou          Guangzhou  01-01-2006  \n",
       "89         CA                SF Bay Area      San Francisco  01-11-2008  \n",
       "90         48                     Moscow             Moscow  01-01-1991  \n",
       "91         17                 Copenhagen         Copenhagen  19-01-2009  \n",
       "92         WA                    Seattle           Kirkland  01-06-2006  \n",
       "93         19                  Bangalore          Bangalore  01-11-2012  \n",
       "94        NaN                  Singapore          Singapore  01-01-2012  \n",
       "95         IA                 Des Moines             Ankeny  01-01-2013  \n",
       "96          2                        NaN                NaN         NaN  \n",
       "97         11                      Seoul              Seoul  01-12-2012  \n",
       "98          2                     Sydney          Newcastle  26-08-2009  \n",
       "99         CA  Orange County, California          Santa Ana  30-06-2008  \n",
       "\n",
       "[100 rows x 10 columns]"
      ]
     },
     "execution_count": 8,
     "metadata": {},
     "output_type": "execute_result"
    }
   ],
   "source": [
    "#Look at sample data from companies dataframe\n",
    "companies_df.head(100)"
   ]
  },
  {
   "cell_type": "code",
   "execution_count": 9,
   "metadata": {
    "collapsed": true
   },
   "outputs": [],
   "source": [
    "#Remove special characters from permalinks\n",
    "companies_df['permalink']=companies_df[['permalink']].applymap(lambda x:x.encode('utf-8').decode('ascii', 'ignore'))\n",
    "\n",
    "#It's been observed that same company permalinks are present in both upper and lowercases, hence to make it unifor, making \n",
    "#the permalinks to lowercase\n",
    "companies_df['permalink']=companies_df[['permalink']].applymap(lambda x:x.lower()) "
   ]
  },
  {
   "cell_type": "code",
   "execution_count": 10,
   "metadata": {},
   "outputs": [
    {
     "name": "stdout",
     "output_type": "stream",
     "text": [
      "66368\n"
     ]
    }
   ],
   "source": [
    "#print(companies_df.name.nunique(dropna=True))\n",
    "\n",
    "#Print number of unique companies. 'name' is not unique, also permalink is present in rounds2 table   \n",
    "print(companies_df.permalink.nunique(dropna=True))"
   ]
  },
  {
   "cell_type": "markdown",
   "metadata": {},
   "source": [
    "<blockquote> How many <b>unique companies</b> are present in <b>companies</b>? <br>\n",
    "Answer: 66368 </blockquote>"
   ]
  },
  {
   "cell_type": "code",
   "execution_count": 11,
   "metadata": {},
   "outputs": [
    {
     "name": "stdout",
     "output_type": "stream",
     "text": [
      "[]\n"
     ]
    }
   ],
   "source": [
    "#Identifying Companies that are present in rounds2 dataframe but not in companies dataframe\n",
    "diff=rounds2_df[rounds2_df.company_permalink.isin(companies_df.permalink)==False]\n",
    "print(diff.company_permalink.unique())\n",
    "#The result didn't return anything, hence the answer is N"
   ]
  },
  {
   "cell_type": "markdown",
   "metadata": {},
   "source": [
    "<blockquote>Are there any companies in the rounds2 file which are not present in companies? Answer yes or no: <b>Y/N</b><br>\n",
    "    Answer: <b>N</b> </br></blockquote>"
   ]
  },
  {
   "cell_type": "code",
   "execution_count": 12,
   "metadata": {
    "collapsed": true
   },
   "outputs": [],
   "source": [
    "#Creating Master dataframe.\n",
    "master_frame=rounds2_df.merge(companies_df,left_on='company_permalink',right_on='permalink',how='left')"
   ]
  },
  {
   "cell_type": "code",
   "execution_count": 13,
   "metadata": {},
   "outputs": [
    {
     "name": "stdout",
     "output_type": "stream",
     "text": [
      "<class 'pandas.core.frame.DataFrame'>\n",
      "Int64Index: 114949 entries, 0 to 114948\n",
      "Data columns (total 16 columns):\n",
      "company_permalink          114949 non-null object\n",
      "funding_round_permalink    114949 non-null object\n",
      "funding_round_type         114949 non-null object\n",
      "funding_round_code         31140 non-null object\n",
      "funded_at                  114949 non-null object\n",
      "raised_amount_usd          94959 non-null float64\n",
      "permalink                  114949 non-null object\n",
      "name                       114948 non-null object\n",
      "homepage_url               108815 non-null object\n",
      "category_list              111539 non-null object\n",
      "status                     114949 non-null object\n",
      "country_code               106271 non-null object\n",
      "state_code                 104003 non-null object\n",
      "region                     104782 non-null object\n",
      "city                       104785 non-null object\n",
      "founded_at                 94428 non-null object\n",
      "dtypes: float64(1), object(15)\n",
      "memory usage: 14.9+ MB\n"
     ]
    }
   ],
   "source": [
    "master_frame.info()"
   ]
  },
  {
   "cell_type": "markdown",
   "metadata": {},
   "source": [
    "<blockquote>Merge the two data frames so that all variables (columns) in the <b>companies</b> frame are added to the <b>rounds2</b> data frame. Name the merged frame <b>master_frame</b>. How many observations are present in <b>master_frame<b>?<br> Answer: 114949 </blockquote>"
   ]
  },
  {
   "cell_type": "code",
   "execution_count": 14,
   "metadata": {
    "scrolled": true
   },
   "outputs": [
    {
     "data": {
      "text/html": [
       "<div>\n",
       "<style>\n",
       "    .dataframe thead tr:only-child th {\n",
       "        text-align: right;\n",
       "    }\n",
       "\n",
       "    .dataframe thead th {\n",
       "        text-align: left;\n",
       "    }\n",
       "\n",
       "    .dataframe tbody tr th {\n",
       "        vertical-align: top;\n",
       "    }\n",
       "</style>\n",
       "<table border=\"1\" class=\"dataframe\">\n",
       "  <thead>\n",
       "    <tr style=\"text-align: right;\">\n",
       "      <th></th>\n",
       "      <th>company_permalink</th>\n",
       "      <th>funding_round_permalink</th>\n",
       "      <th>funding_round_type</th>\n",
       "      <th>funding_round_code</th>\n",
       "      <th>funded_at</th>\n",
       "      <th>raised_amount_usd</th>\n",
       "      <th>permalink</th>\n",
       "      <th>name</th>\n",
       "      <th>homepage_url</th>\n",
       "      <th>category_list</th>\n",
       "      <th>status</th>\n",
       "      <th>country_code</th>\n",
       "      <th>state_code</th>\n",
       "      <th>region</th>\n",
       "      <th>city</th>\n",
       "      <th>founded_at</th>\n",
       "    </tr>\n",
       "  </thead>\n",
       "  <tbody>\n",
       "    <tr>\n",
       "      <th>0</th>\n",
       "      <td>/organization/-fame</td>\n",
       "      <td>/funding-round/9a01d05418af9f794eebff7ace91f638</td>\n",
       "      <td>venture</td>\n",
       "      <td>B</td>\n",
       "      <td>05-01-2015</td>\n",
       "      <td>10000000.0</td>\n",
       "      <td>/organization/-fame</td>\n",
       "      <td>#fame</td>\n",
       "      <td>http://livfame.com</td>\n",
       "      <td>Media</td>\n",
       "      <td>operating</td>\n",
       "      <td>IND</td>\n",
       "      <td>16</td>\n",
       "      <td>Mumbai</td>\n",
       "      <td>Mumbai</td>\n",
       "      <td>NaN</td>\n",
       "    </tr>\n",
       "    <tr>\n",
       "      <th>1</th>\n",
       "      <td>/organization/-qounter</td>\n",
       "      <td>/funding-round/22dacff496eb7acb2b901dec1dfe5633</td>\n",
       "      <td>venture</td>\n",
       "      <td>A</td>\n",
       "      <td>14-10-2014</td>\n",
       "      <td>NaN</td>\n",
       "      <td>/organization/-qounter</td>\n",
       "      <td>:Qounter</td>\n",
       "      <td>http://www.qounter.com</td>\n",
       "      <td>Application Platforms|Real Time|Social Network...</td>\n",
       "      <td>operating</td>\n",
       "      <td>USA</td>\n",
       "      <td>DE</td>\n",
       "      <td>DE - Other</td>\n",
       "      <td>Delaware City</td>\n",
       "      <td>04-09-2014</td>\n",
       "    </tr>\n",
       "    <tr>\n",
       "      <th>2</th>\n",
       "      <td>/organization/-qounter</td>\n",
       "      <td>/funding-round/b44fbb94153f6cdef13083530bb48030</td>\n",
       "      <td>seed</td>\n",
       "      <td>NaN</td>\n",
       "      <td>01-03-2014</td>\n",
       "      <td>700000.0</td>\n",
       "      <td>/organization/-qounter</td>\n",
       "      <td>:Qounter</td>\n",
       "      <td>http://www.qounter.com</td>\n",
       "      <td>Application Platforms|Real Time|Social Network...</td>\n",
       "      <td>operating</td>\n",
       "      <td>USA</td>\n",
       "      <td>DE</td>\n",
       "      <td>DE - Other</td>\n",
       "      <td>Delaware City</td>\n",
       "      <td>04-09-2014</td>\n",
       "    </tr>\n",
       "    <tr>\n",
       "      <th>3</th>\n",
       "      <td>/organization/-the-one-of-them-inc-</td>\n",
       "      <td>/funding-round/650b8f704416801069bb178a1418776b</td>\n",
       "      <td>venture</td>\n",
       "      <td>B</td>\n",
       "      <td>30-01-2014</td>\n",
       "      <td>3406878.0</td>\n",
       "      <td>/organization/-the-one-of-them-inc-</td>\n",
       "      <td>(THE) ONE of THEM,Inc.</td>\n",
       "      <td>http://oneofthem.jp</td>\n",
       "      <td>Apps|Games|Mobile</td>\n",
       "      <td>operating</td>\n",
       "      <td>NaN</td>\n",
       "      <td>NaN</td>\n",
       "      <td>NaN</td>\n",
       "      <td>NaN</td>\n",
       "      <td>NaN</td>\n",
       "    </tr>\n",
       "    <tr>\n",
       "      <th>4</th>\n",
       "      <td>/organization/0-6-com</td>\n",
       "      <td>/funding-round/5727accaeaa57461bd22a9bdd945382d</td>\n",
       "      <td>venture</td>\n",
       "      <td>A</td>\n",
       "      <td>19-03-2008</td>\n",
       "      <td>2000000.0</td>\n",
       "      <td>/organization/0-6-com</td>\n",
       "      <td>0-6.com</td>\n",
       "      <td>http://www.0-6.com</td>\n",
       "      <td>Curated Web</td>\n",
       "      <td>operating</td>\n",
       "      <td>CHN</td>\n",
       "      <td>22</td>\n",
       "      <td>Beijing</td>\n",
       "      <td>Beijing</td>\n",
       "      <td>01-01-2007</td>\n",
       "    </tr>\n",
       "    <tr>\n",
       "      <th>5</th>\n",
       "      <td>/organization/004-technologies</td>\n",
       "      <td>/funding-round/1278dd4e6a37fa4b7d7e06c21b3c1830</td>\n",
       "      <td>venture</td>\n",
       "      <td>NaN</td>\n",
       "      <td>24-07-2014</td>\n",
       "      <td>NaN</td>\n",
       "      <td>/organization/004-technologies</td>\n",
       "      <td>004 Technologies</td>\n",
       "      <td>http://004gmbh.de/en/004-interact</td>\n",
       "      <td>Software</td>\n",
       "      <td>operating</td>\n",
       "      <td>USA</td>\n",
       "      <td>IL</td>\n",
       "      <td>Springfield, Illinois</td>\n",
       "      <td>Champaign</td>\n",
       "      <td>01-01-2010</td>\n",
       "    </tr>\n",
       "    <tr>\n",
       "      <th>6</th>\n",
       "      <td>/organization/01games-technology</td>\n",
       "      <td>/funding-round/7d53696f2b4f607a2f2a8cbb83d01839</td>\n",
       "      <td>undisclosed</td>\n",
       "      <td>NaN</td>\n",
       "      <td>01-07-2014</td>\n",
       "      <td>41250.0</td>\n",
       "      <td>/organization/01games-technology</td>\n",
       "      <td>01Games Technology</td>\n",
       "      <td>http://www.01games.hk/</td>\n",
       "      <td>Games</td>\n",
       "      <td>operating</td>\n",
       "      <td>HKG</td>\n",
       "      <td>NaN</td>\n",
       "      <td>Hong Kong</td>\n",
       "      <td>Hong Kong</td>\n",
       "      <td>NaN</td>\n",
       "    </tr>\n",
       "    <tr>\n",
       "      <th>7</th>\n",
       "      <td>/organization/0ndine-biomedical-inc</td>\n",
       "      <td>/funding-round/2b9d3ac293d5cdccbecff5c8cb0f327d</td>\n",
       "      <td>seed</td>\n",
       "      <td>NaN</td>\n",
       "      <td>11-09-2009</td>\n",
       "      <td>43360.0</td>\n",
       "      <td>/organization/0ndine-biomedical-inc</td>\n",
       "      <td>Ondine Biomedical Inc.</td>\n",
       "      <td>http://ondinebio.com</td>\n",
       "      <td>Biotechnology</td>\n",
       "      <td>operating</td>\n",
       "      <td>CAN</td>\n",
       "      <td>BC</td>\n",
       "      <td>Vancouver</td>\n",
       "      <td>Vancouver</td>\n",
       "      <td>01-01-1997</td>\n",
       "    </tr>\n",
       "    <tr>\n",
       "      <th>8</th>\n",
       "      <td>/organization/0ndine-biomedical-inc</td>\n",
       "      <td>/funding-round/954b9499724b946ad8c396a57a5f3b72</td>\n",
       "      <td>venture</td>\n",
       "      <td>NaN</td>\n",
       "      <td>21-12-2009</td>\n",
       "      <td>719491.0</td>\n",
       "      <td>/organization/0ndine-biomedical-inc</td>\n",
       "      <td>Ondine Biomedical Inc.</td>\n",
       "      <td>http://ondinebio.com</td>\n",
       "      <td>Biotechnology</td>\n",
       "      <td>operating</td>\n",
       "      <td>CAN</td>\n",
       "      <td>BC</td>\n",
       "      <td>Vancouver</td>\n",
       "      <td>Vancouver</td>\n",
       "      <td>01-01-1997</td>\n",
       "    </tr>\n",
       "    <tr>\n",
       "      <th>9</th>\n",
       "      <td>/organization/0xdata</td>\n",
       "      <td>/funding-round/383a9bd2c04f7038bb543ccef5ba3eae</td>\n",
       "      <td>seed</td>\n",
       "      <td>NaN</td>\n",
       "      <td>22-05-2013</td>\n",
       "      <td>3000000.0</td>\n",
       "      <td>/organization/0xdata</td>\n",
       "      <td>H2O.ai</td>\n",
       "      <td>http://h2o.ai/</td>\n",
       "      <td>Analytics</td>\n",
       "      <td>operating</td>\n",
       "      <td>USA</td>\n",
       "      <td>CA</td>\n",
       "      <td>SF Bay Area</td>\n",
       "      <td>Mountain View</td>\n",
       "      <td>01-01-2011</td>\n",
       "    </tr>\n",
       "  </tbody>\n",
       "</table>\n",
       "</div>"
      ],
      "text/plain": [
       "                     company_permalink  \\\n",
       "0                  /organization/-fame   \n",
       "1               /organization/-qounter   \n",
       "2               /organization/-qounter   \n",
       "3  /organization/-the-one-of-them-inc-   \n",
       "4                /organization/0-6-com   \n",
       "5       /organization/004-technologies   \n",
       "6     /organization/01games-technology   \n",
       "7  /organization/0ndine-biomedical-inc   \n",
       "8  /organization/0ndine-biomedical-inc   \n",
       "9                 /organization/0xdata   \n",
       "\n",
       "                           funding_round_permalink funding_round_type  \\\n",
       "0  /funding-round/9a01d05418af9f794eebff7ace91f638            venture   \n",
       "1  /funding-round/22dacff496eb7acb2b901dec1dfe5633            venture   \n",
       "2  /funding-round/b44fbb94153f6cdef13083530bb48030               seed   \n",
       "3  /funding-round/650b8f704416801069bb178a1418776b            venture   \n",
       "4  /funding-round/5727accaeaa57461bd22a9bdd945382d            venture   \n",
       "5  /funding-round/1278dd4e6a37fa4b7d7e06c21b3c1830            venture   \n",
       "6  /funding-round/7d53696f2b4f607a2f2a8cbb83d01839        undisclosed   \n",
       "7  /funding-round/2b9d3ac293d5cdccbecff5c8cb0f327d               seed   \n",
       "8  /funding-round/954b9499724b946ad8c396a57a5f3b72            venture   \n",
       "9  /funding-round/383a9bd2c04f7038bb543ccef5ba3eae               seed   \n",
       "\n",
       "  funding_round_code   funded_at  raised_amount_usd  \\\n",
       "0                  B  05-01-2015         10000000.0   \n",
       "1                  A  14-10-2014                NaN   \n",
       "2                NaN  01-03-2014           700000.0   \n",
       "3                  B  30-01-2014          3406878.0   \n",
       "4                  A  19-03-2008          2000000.0   \n",
       "5                NaN  24-07-2014                NaN   \n",
       "6                NaN  01-07-2014            41250.0   \n",
       "7                NaN  11-09-2009            43360.0   \n",
       "8                NaN  21-12-2009           719491.0   \n",
       "9                NaN  22-05-2013          3000000.0   \n",
       "\n",
       "                             permalink                    name  \\\n",
       "0                  /organization/-fame                   #fame   \n",
       "1               /organization/-qounter                :Qounter   \n",
       "2               /organization/-qounter                :Qounter   \n",
       "3  /organization/-the-one-of-them-inc-  (THE) ONE of THEM,Inc.   \n",
       "4                /organization/0-6-com                 0-6.com   \n",
       "5       /organization/004-technologies        004 Technologies   \n",
       "6     /organization/01games-technology      01Games Technology   \n",
       "7  /organization/0ndine-biomedical-inc  Ondine Biomedical Inc.   \n",
       "8  /organization/0ndine-biomedical-inc  Ondine Biomedical Inc.   \n",
       "9                 /organization/0xdata                  H2O.ai   \n",
       "\n",
       "                        homepage_url  \\\n",
       "0                 http://livfame.com   \n",
       "1             http://www.qounter.com   \n",
       "2             http://www.qounter.com   \n",
       "3                http://oneofthem.jp   \n",
       "4                 http://www.0-6.com   \n",
       "5  http://004gmbh.de/en/004-interact   \n",
       "6             http://www.01games.hk/   \n",
       "7               http://ondinebio.com   \n",
       "8               http://ondinebio.com   \n",
       "9                     http://h2o.ai/   \n",
       "\n",
       "                                       category_list     status country_code  \\\n",
       "0                                              Media  operating          IND   \n",
       "1  Application Platforms|Real Time|Social Network...  operating          USA   \n",
       "2  Application Platforms|Real Time|Social Network...  operating          USA   \n",
       "3                                  Apps|Games|Mobile  operating          NaN   \n",
       "4                                        Curated Web  operating          CHN   \n",
       "5                                           Software  operating          USA   \n",
       "6                                              Games  operating          HKG   \n",
       "7                                      Biotechnology  operating          CAN   \n",
       "8                                      Biotechnology  operating          CAN   \n",
       "9                                          Analytics  operating          USA   \n",
       "\n",
       "  state_code                 region           city  founded_at  \n",
       "0         16                 Mumbai         Mumbai         NaN  \n",
       "1         DE             DE - Other  Delaware City  04-09-2014  \n",
       "2         DE             DE - Other  Delaware City  04-09-2014  \n",
       "3        NaN                    NaN            NaN         NaN  \n",
       "4         22                Beijing        Beijing  01-01-2007  \n",
       "5         IL  Springfield, Illinois      Champaign  01-01-2010  \n",
       "6        NaN              Hong Kong      Hong Kong         NaN  \n",
       "7         BC              Vancouver      Vancouver  01-01-1997  \n",
       "8         BC              Vancouver      Vancouver  01-01-1997  \n",
       "9         CA            SF Bay Area  Mountain View  01-01-2011  "
      ]
     },
     "execution_count": 14,
     "metadata": {},
     "output_type": "execute_result"
    }
   ],
   "source": [
    "master_frame.head(10)"
   ]
  },
  {
   "cell_type": "code",
   "execution_count": 15,
   "metadata": {
    "collapsed": true
   },
   "outputs": [],
   "source": [
    "#Keeping a copy of Master DataFrame before further cleaning\n",
    "master_frame_original=master_frame.copy()"
   ]
  },
  {
   "cell_type": "markdown",
   "metadata": {},
   "source": [
    "<p><b>Master Frame Data Cleaning</b><p>"
   ]
  },
  {
   "cell_type": "code",
   "execution_count": 16,
   "metadata": {},
   "outputs": [
    {
     "data": {
      "text/plain": [
       "company_permalink           0.00\n",
       "funding_round_permalink     0.00\n",
       "funding_round_type          0.00\n",
       "funding_round_code         72.91\n",
       "funded_at                   0.00\n",
       "raised_amount_usd          17.39\n",
       "permalink                   0.00\n",
       "name                        0.00\n",
       "homepage_url                5.34\n",
       "category_list               2.97\n",
       "status                      0.00\n",
       "country_code                7.55\n",
       "state_code                  9.52\n",
       "region                      8.84\n",
       "city                        8.84\n",
       "founded_at                 17.85\n",
       "dtype: float64"
      ]
     },
     "execution_count": 16,
     "metadata": {},
     "output_type": "execute_result"
    }
   ],
   "source": [
    "#Percentage of NULL/NaN values per column\n",
    "round((master_frame.isnull().sum()/len(master_frame.index))*100,2)"
   ]
  },
  {
   "cell_type": "code",
   "execution_count": 17,
   "metadata": {},
   "outputs": [
    {
     "data": {
      "text/plain": [
       "company_permalink              0\n",
       "funding_round_permalink        0\n",
       "funding_round_type             0\n",
       "funding_round_code         83809\n",
       "funded_at                      0\n",
       "raised_amount_usd          19990\n",
       "permalink                      0\n",
       "name                           1\n",
       "homepage_url                6134\n",
       "category_list               3410\n",
       "status                         0\n",
       "country_code                8678\n",
       "state_code                 10946\n",
       "region                     10167\n",
       "city                       10164\n",
       "founded_at                 20521\n",
       "dtype: int64"
      ]
     },
     "execution_count": 17,
     "metadata": {},
     "output_type": "execute_result"
    }
   ],
   "source": [
    "#Number of NULL/NaN values per column\n",
    "master_frame.isnull().sum()"
   ]
  },
  {
   "cell_type": "code",
   "execution_count": 18,
   "metadata": {
    "collapsed": true
   },
   "outputs": [],
   "source": [
    "#Removing rows where raised_amount_usd is NULL\n",
    "master_frame=master_frame.dropna(subset=['raised_amount_usd'])"
   ]
  },
  {
   "cell_type": "code",
   "execution_count": 19,
   "metadata": {
    "collapsed": true
   },
   "outputs": [],
   "source": [
    "#Removing rows where country_code is NULL\n",
    "master_frame=master_frame.dropna(subset=['country_code'])"
   ]
  },
  {
   "cell_type": "code",
   "execution_count": 20,
   "metadata": {},
   "outputs": [
    {
     "data": {
      "text/plain": [
       "89108"
      ]
     },
     "execution_count": 20,
     "metadata": {},
     "output_type": "execute_result"
    }
   ],
   "source": [
    "#Number of rows after data cleaning \n",
    "master_frame.shape[0]"
   ]
  },
  {
   "cell_type": "code",
   "execution_count": 21,
   "metadata": {},
   "outputs": [
    {
     "data": {
      "text/plain": [
       "77.52"
      ]
     },
     "execution_count": 21,
     "metadata": {},
     "output_type": "execute_result"
    }
   ],
   "source": [
    "#Percentage of rows selected from the main dataset for further analysis\n",
    "round(len(master_frame)/len(master_frame_original)*100,2)"
   ]
  },
  {
   "cell_type": "code",
   "execution_count": 22,
   "metadata": {
    "collapsed": true
   },
   "outputs": [],
   "source": [
    "#Converting raised_amount_usd to million usd\n",
    "master_frame['raised_amount_usd']=master_frame['raised_amount_usd'].apply(lambda x : round(x/1000000,3))"
   ]
  },
  {
   "cell_type": "markdown",
   "metadata": {},
   "source": [
    "## 2.1 Checkpoint 2: Investment Type Analysis\n",
    "<ol><li>Average funding amount of venture type</li>\n",
    "<li>Average funding amount of angel type</li>\n",
    "<li>Average funding amount of seed type</li>\n",
    "<li>Average funding amount of private equity type</li>\n",
    "<li>Considering that Spark Funds wants to invest between 5 to 15 million USD per  investment round, which investment type is the most suitable for them?</li>"
   ]
  },
  {
   "cell_type": "code",
   "execution_count": 23,
   "metadata": {},
   "outputs": [
    {
     "data": {
      "text/plain": [
       "funding_round_type\n",
       "angel                      0.968561\n",
       "convertible_note           1.331935\n",
       "debt_financing            17.186401\n",
       "equity_crowdfunding        0.510953\n",
       "grant                      4.508467\n",
       "non_equity_assistance      0.471460\n",
       "post_ipo_debt            169.451801\n",
       "post_ipo_equity           66.018787\n",
       "private_equity            73.618561\n",
       "product_crowdfunding       1.489675\n",
       "secondary_market          81.527207\n",
       "seed                       0.748104\n",
       "undisclosed               15.851079\n",
       "venture                   11.735780\n",
       "Name: raised_amount_usd, dtype: float64"
      ]
     },
     "execution_count": 23,
     "metadata": {},
     "output_type": "execute_result"
    }
   ],
   "source": [
    "#Calculation Average per Funding round type\n",
    "master_frame.groupby('funding_round_type')['raised_amount_usd'].mean()"
   ]
  },
  {
   "cell_type": "markdown",
   "metadata": {},
   "source": [
    "<b>Answers:</b>\n",
    "<ol><li>Average funding amount of venture type: <b>11.736 million USD</b></li>\n",
    "<li>Average funding amount of angel type: <b>0.969 million USD</b></li>\n",
    "<li>Average funding amount of seed type: <b>0.748 million USD</b></li>\n",
    "<li>Average funding amount of private equity type: <b> 73.619 million USD</b></li>    "
   ]
  },
  {
   "cell_type": "code",
   "execution_count": 24,
   "metadata": {},
   "outputs": [
    {
     "data": {
      "text/plain": [
       "funding_round_type\n",
       "angel                    False\n",
       "convertible_note         False\n",
       "debt_financing           False\n",
       "equity_crowdfunding      False\n",
       "grant                    False\n",
       "non_equity_assistance    False\n",
       "post_ipo_debt            False\n",
       "post_ipo_equity          False\n",
       "private_equity           False\n",
       "product_crowdfunding     False\n",
       "secondary_market         False\n",
       "seed                     False\n",
       "undisclosed              False\n",
       "venture                   True\n",
       "Name: raised_amount_usd, dtype: bool"
      ]
     },
     "execution_count": 24,
     "metadata": {},
     "output_type": "execute_result"
    }
   ],
   "source": [
    "#Identifying funding round type which falls between 5 to 15 million USD\n",
    "master_frame.groupby('funding_round_type')['raised_amount_usd'].mean().between(5.0,15.0,inclusive=True)"
   ]
  },
  {
   "cell_type": "markdown",
   "metadata": {},
   "source": [
    "<li>Considering that Spark Funds wants to invest between 5 to 15 million USD per  investment round, which investment type is the most suitable for them? : <br> Answer:<b> Venture Type</b></li>"
   ]
  },
  {
   "cell_type": "code",
   "execution_count": 25,
   "metadata": {
    "collapsed": true
   },
   "outputs": [],
   "source": [
    "#Keeping the records for Venture Type only\n",
    "master_frame_venture=master_frame[master_frame.funding_round_type=='venture']"
   ]
  },
  {
   "cell_type": "code",
   "execution_count": 26,
   "metadata": {},
   "outputs": [
    {
     "data": {
      "text/plain": [
       "48111"
      ]
     },
     "execution_count": 26,
     "metadata": {},
     "output_type": "execute_result"
    }
   ],
   "source": [
    "master_frame_venture.shape[0]"
   ]
  },
  {
   "cell_type": "code",
   "execution_count": 27,
   "metadata": {
    "collapsed": true
   },
   "outputs": [],
   "source": [
    "#As the data is already filtered by funding_round_type, so dropping this column as well\n",
    "master_frame_venture=master_frame_venture.drop(['funding_round_type'],axis=1)"
   ]
  },
  {
   "cell_type": "markdown",
   "metadata": {},
   "source": [
    "## 3.1 Checkpoint 3: Country Analysis\n",
    "<ol><li>Spark Funds wants to see the top nine countries which have received the highest total funding</li>\n",
    "<li>For the chosen investment type, make a data frame named top9 with the top nine countries</li>\n",
    "<li>Identify the top three English-speaking countries in the data frame top9</li>"
   ]
  },
  {
   "cell_type": "code",
   "execution_count": 28,
   "metadata": {
    "collapsed": true
   },
   "outputs": [],
   "source": [
    "#Create Dataframe with top 9 countries based on total funding received\n",
    "top9=master_frame_venture.groupby('country_code',as_index=False)['raised_amount_usd'].sum().sort_values(by=['raised_amount_usd'],ascending=False).head(9)"
   ]
  },
  {
   "cell_type": "code",
   "execution_count": 29,
   "metadata": {
    "collapsed": true
   },
   "outputs": [],
   "source": [
    "top9['Rank']=range(1,10)"
   ]
  },
  {
   "cell_type": "code",
   "execution_count": 30,
   "metadata": {
    "collapsed": true
   },
   "outputs": [],
   "source": [
    "top9.set_index(['Rank'],inplace = True)"
   ]
  },
  {
   "cell_type": "code",
   "execution_count": 31,
   "metadata": {},
   "outputs": [
    {
     "data": {
      "text/html": [
       "<div>\n",
       "<style>\n",
       "    .dataframe thead tr:only-child th {\n",
       "        text-align: right;\n",
       "    }\n",
       "\n",
       "    .dataframe thead th {\n",
       "        text-align: left;\n",
       "    }\n",
       "\n",
       "    .dataframe tbody tr th {\n",
       "        vertical-align: top;\n",
       "    }\n",
       "</style>\n",
       "<table border=\"1\" class=\"dataframe\">\n",
       "  <thead>\n",
       "    <tr style=\"text-align: right;\">\n",
       "      <th></th>\n",
       "      <th>country_code</th>\n",
       "      <th>raised_amount_usd</th>\n",
       "    </tr>\n",
       "    <tr>\n",
       "      <th>Rank</th>\n",
       "      <th></th>\n",
       "      <th></th>\n",
       "    </tr>\n",
       "  </thead>\n",
       "  <tbody>\n",
       "    <tr>\n",
       "      <th>1</th>\n",
       "      <td>USA</td>\n",
       "      <td>422510.872</td>\n",
       "    </tr>\n",
       "    <tr>\n",
       "      <th>2</th>\n",
       "      <td>CHN</td>\n",
       "      <td>39835.418</td>\n",
       "    </tr>\n",
       "    <tr>\n",
       "      <th>3</th>\n",
       "      <td>GBR</td>\n",
       "      <td>20245.629</td>\n",
       "    </tr>\n",
       "    <tr>\n",
       "      <th>4</th>\n",
       "      <td>IND</td>\n",
       "      <td>14391.859</td>\n",
       "    </tr>\n",
       "    <tr>\n",
       "      <th>5</th>\n",
       "      <td>CAN</td>\n",
       "      <td>9583.323</td>\n",
       "    </tr>\n",
       "    <tr>\n",
       "      <th>6</th>\n",
       "      <td>FRA</td>\n",
       "      <td>7259.532</td>\n",
       "    </tr>\n",
       "    <tr>\n",
       "      <th>7</th>\n",
       "      <td>ISR</td>\n",
       "      <td>6907.514</td>\n",
       "    </tr>\n",
       "    <tr>\n",
       "      <th>8</th>\n",
       "      <td>DEU</td>\n",
       "      <td>6346.960</td>\n",
       "    </tr>\n",
       "    <tr>\n",
       "      <th>9</th>\n",
       "      <td>JPN</td>\n",
       "      <td>3363.676</td>\n",
       "    </tr>\n",
       "  </tbody>\n",
       "</table>\n",
       "</div>"
      ],
      "text/plain": [
       "     country_code  raised_amount_usd\n",
       "Rank                                \n",
       "1             USA         422510.872\n",
       "2             CHN          39835.418\n",
       "3             GBR          20245.629\n",
       "4             IND          14391.859\n",
       "5             CAN           9583.323\n",
       "6             FRA           7259.532\n",
       "7             ISR           6907.514\n",
       "8             DEU           6346.960\n",
       "9             JPN           3363.676"
      ]
     },
     "execution_count": 31,
     "metadata": {},
     "output_type": "execute_result"
    }
   ],
   "source": [
    "top9"
   ]
  },
  {
   "cell_type": "markdown",
   "metadata": {},
   "source": [
    "<blockquote> Top 3 countries are as follows. <b>Note:</b>China is not an English speaking country, hence not considerd.\n",
    "<ol><li>USA</li><li>GBR</li><li>IND</li>"
   ]
  },
  {
   "cell_type": "markdown",
   "metadata": {},
   "source": [
    "## 4.1 Checkpoint 4: Sector Analysis 1\n",
    "<blockquote>You discuss with the CEO and come up with the business rule that the first string before the vertical bar will be considered the primary sector. In the example above, ‘Application Platforms’ will be considered the primary sector.\n",
    "\n",
    "<ol><li>Extract the primary sector of each category list from the category_list column</li>\n",
    "<li>Use the mapping file 'mapping.csv' to map each primary sector to one of the eight main sectors (Note that ‘Others’ is also considered one of the main sectors)</li></blockquote>"
   ]
  },
  {
   "cell_type": "code",
   "execution_count": 32,
   "metadata": {
    "collapsed": true
   },
   "outputs": [],
   "source": [
    "#Dropping unnecessary columns.from master frame.\n",
    "master_frame_venture=master_frame_venture.drop(['funding_round_code','funded_at','state_code','region','city','founded_at'],axis=1)"
   ]
  },
  {
   "cell_type": "code",
   "execution_count": 33,
   "metadata": {
    "collapsed": true
   },
   "outputs": [],
   "source": [
    "#Split Category list by '|' and take the first category as Prime sector\n",
    "master_frame_venture['Primary_Sector'] = master_frame_venture['category_list'].str.split('|',expand=True)[0]"
   ]
  },
  {
   "cell_type": "code",
   "execution_count": 34,
   "metadata": {},
   "outputs": [
    {
     "name": "stdout",
     "output_type": "stream",
     "text": [
      "<class 'pandas.core.frame.DataFrame'>\n",
      "Int64Index: 48111 entries, 0 to 114941\n",
      "Data columns (total 10 columns):\n",
      "company_permalink          48111 non-null object\n",
      "funding_round_permalink    48111 non-null object\n",
      "raised_amount_usd          48111 non-null float64\n",
      "permalink                  48111 non-null object\n",
      "name                       48111 non-null object\n",
      "homepage_url               45936 non-null object\n",
      "category_list              47809 non-null object\n",
      "status                     48111 non-null object\n",
      "country_code               48111 non-null object\n",
      "Primary_Sector             47809 non-null object\n",
      "dtypes: float64(1), object(9)\n",
      "memory usage: 4.0+ MB\n"
     ]
    }
   ],
   "source": [
    "master_frame_venture.info()"
   ]
  },
  {
   "cell_type": "code",
   "execution_count": 35,
   "metadata": {},
   "outputs": [
    {
     "data": {
      "text/html": [
       "<div>\n",
       "<style>\n",
       "    .dataframe thead tr:only-child th {\n",
       "        text-align: right;\n",
       "    }\n",
       "\n",
       "    .dataframe thead th {\n",
       "        text-align: left;\n",
       "    }\n",
       "\n",
       "    .dataframe tbody tr th {\n",
       "        vertical-align: top;\n",
       "    }\n",
       "</style>\n",
       "<table border=\"1\" class=\"dataframe\">\n",
       "  <thead>\n",
       "    <tr style=\"text-align: right;\">\n",
       "      <th></th>\n",
       "      <th>category_list</th>\n",
       "      <th>Automotive &amp; Sports</th>\n",
       "      <th>Blanks</th>\n",
       "      <th>Cleantech / Semiconductors</th>\n",
       "      <th>Entertainment</th>\n",
       "      <th>Health</th>\n",
       "      <th>Manufacturing</th>\n",
       "      <th>News, Search and Messaging</th>\n",
       "      <th>Others</th>\n",
       "      <th>Social, Finance, Analytics, Advertising</th>\n",
       "    </tr>\n",
       "  </thead>\n",
       "  <tbody>\n",
       "    <tr>\n",
       "      <th>0</th>\n",
       "      <td>NaN</td>\n",
       "      <td>0</td>\n",
       "      <td>1</td>\n",
       "      <td>0</td>\n",
       "      <td>0</td>\n",
       "      <td>0</td>\n",
       "      <td>0</td>\n",
       "      <td>0</td>\n",
       "      <td>0</td>\n",
       "      <td>0</td>\n",
       "    </tr>\n",
       "    <tr>\n",
       "      <th>1</th>\n",
       "      <td>3D</td>\n",
       "      <td>0</td>\n",
       "      <td>0</td>\n",
       "      <td>0</td>\n",
       "      <td>0</td>\n",
       "      <td>0</td>\n",
       "      <td>1</td>\n",
       "      <td>0</td>\n",
       "      <td>0</td>\n",
       "      <td>0</td>\n",
       "    </tr>\n",
       "    <tr>\n",
       "      <th>2</th>\n",
       "      <td>3D Printing</td>\n",
       "      <td>0</td>\n",
       "      <td>0</td>\n",
       "      <td>0</td>\n",
       "      <td>0</td>\n",
       "      <td>0</td>\n",
       "      <td>1</td>\n",
       "      <td>0</td>\n",
       "      <td>0</td>\n",
       "      <td>0</td>\n",
       "    </tr>\n",
       "    <tr>\n",
       "      <th>3</th>\n",
       "      <td>3D Technology</td>\n",
       "      <td>0</td>\n",
       "      <td>0</td>\n",
       "      <td>0</td>\n",
       "      <td>0</td>\n",
       "      <td>0</td>\n",
       "      <td>1</td>\n",
       "      <td>0</td>\n",
       "      <td>0</td>\n",
       "      <td>0</td>\n",
       "    </tr>\n",
       "    <tr>\n",
       "      <th>4</th>\n",
       "      <td>Accounting</td>\n",
       "      <td>0</td>\n",
       "      <td>0</td>\n",
       "      <td>0</td>\n",
       "      <td>0</td>\n",
       "      <td>0</td>\n",
       "      <td>0</td>\n",
       "      <td>0</td>\n",
       "      <td>0</td>\n",
       "      <td>1</td>\n",
       "    </tr>\n",
       "  </tbody>\n",
       "</table>\n",
       "</div>"
      ],
      "text/plain": [
       "   category_list  Automotive & Sports  Blanks  Cleantech / Semiconductors  \\\n",
       "0            NaN                    0       1                           0   \n",
       "1             3D                    0       0                           0   \n",
       "2    3D Printing                    0       0                           0   \n",
       "3  3D Technology                    0       0                           0   \n",
       "4     Accounting                    0       0                           0   \n",
       "\n",
       "   Entertainment  Health  Manufacturing  News, Search and Messaging  Others  \\\n",
       "0              0       0              0                           0       0   \n",
       "1              0       0              1                           0       0   \n",
       "2              0       0              1                           0       0   \n",
       "3              0       0              1                           0       0   \n",
       "4              0       0              0                           0       0   \n",
       "\n",
       "   Social, Finance, Analytics, Advertising  \n",
       "0                                        0  \n",
       "1                                        0  \n",
       "2                                        0  \n",
       "3                                        0  \n",
       "4                                        1  "
      ]
     },
     "execution_count": 35,
     "metadata": {},
     "output_type": "execute_result"
    }
   ],
   "source": [
    "#Create mapping dataframe\n",
    "mapping_df = pd.read_csv('mapping.csv',sep=',',encoding='latin')\n",
    "mapping_df.category_list = mapping_df.category_list.replace({'0':'na', '2.na' :'2.0'}, regex=True)\n",
    "mapping_df.head()"
   ]
  },
  {
   "cell_type": "code",
   "execution_count": 36,
   "metadata": {
    "collapsed": true
   },
   "outputs": [],
   "source": [
    "mapping_df_melt=pd.melt(mapping_df, id_vars=['category_list'],value_vars=['Automotive & Sports', 'Blanks',\n",
    "       'Cleantech / Semiconductors', 'Entertainment', 'Health',\n",
    "       'Manufacturing', 'News, Search and Messaging', 'Others',\n",
    "       'Social, Finance, Analytics, Advertising'])"
   ]
  },
  {
   "cell_type": "code",
   "execution_count": 37,
   "metadata": {
    "collapsed": true
   },
   "outputs": [],
   "source": [
    "#Keeping the rows where value==1\n",
    "mapping_df=mapping_df_melt[mapping_df_melt.value==1]"
   ]
  },
  {
   "cell_type": "code",
   "execution_count": 38,
   "metadata": {},
   "outputs": [
    {
     "data": {
      "text/plain": [
       "688"
      ]
     },
     "execution_count": 38,
     "metadata": {},
     "output_type": "execute_result"
    }
   ],
   "source": [
    "mapping_df.shape[0]"
   ]
  },
  {
   "cell_type": "code",
   "execution_count": 39,
   "metadata": {
    "collapsed": true
   },
   "outputs": [],
   "source": [
    "mapping_df=mapping_df[mapping_df['variable']!='Blanks']"
   ]
  },
  {
   "cell_type": "code",
   "execution_count": 40,
   "metadata": {
    "collapsed": true
   },
   "outputs": [],
   "source": [
    "mapping_df=mapping_df.rename(columns={'category_list':'Primary_Sector','variable':'main_sector'})"
   ]
  },
  {
   "cell_type": "code",
   "execution_count": 41,
   "metadata": {
    "collapsed": true
   },
   "outputs": [],
   "source": [
    "mapping_df=mapping_df.drop('value',axis=1)"
   ]
  },
  {
   "cell_type": "code",
   "execution_count": 42,
   "metadata": {},
   "outputs": [
    {
     "name": "stdout",
     "output_type": "stream",
     "text": [
      "<class 'pandas.core.frame.DataFrame'>\n",
      "Int64Index: 687 entries, 8 to 6167\n",
      "Data columns (total 2 columns):\n",
      "Primary_Sector    687 non-null object\n",
      "main_sector       687 non-null object\n",
      "dtypes: object(2)\n",
      "memory usage: 16.1+ KB\n"
     ]
    }
   ],
   "source": [
    "mapping_df.info()"
   ]
  },
  {
   "cell_type": "code",
   "execution_count": 43,
   "metadata": {},
   "outputs": [
    {
     "data": {
      "text/plain": [
       "company_permalink             0\n",
       "funding_round_permalink       0\n",
       "raised_amount_usd             0\n",
       "permalink                     0\n",
       "name                          0\n",
       "homepage_url               2175\n",
       "category_list               302\n",
       "status                        0\n",
       "country_code                  0\n",
       "Primary_Sector              302\n",
       "dtype: int64"
      ]
     },
     "execution_count": 43,
     "metadata": {},
     "output_type": "execute_result"
    }
   ],
   "source": [
    "master_frame_venture.isnull().sum()"
   ]
  },
  {
   "cell_type": "code",
   "execution_count": 44,
   "metadata": {
    "collapsed": true
   },
   "outputs": [],
   "source": [
    "#Removing rows where category/sector is NULL\n",
    "master_frame_venture=master_frame_venture.dropna(subset=['category_list'])"
   ]
  },
  {
   "cell_type": "code",
   "execution_count": 45,
   "metadata": {
    "collapsed": true
   },
   "outputs": [],
   "source": [
    "#merged data frame with each primary sector mapped to its main sector\n",
    "master_frame_venture=master_frame_venture.merge(mapping_df,on='Primary_Sector',how='inner')"
   ]
  },
  {
   "cell_type": "code",
   "execution_count": 46,
   "metadata": {},
   "outputs": [
    {
     "data": {
      "text/plain": [
       "47626"
      ]
     },
     "execution_count": 46,
     "metadata": {},
     "output_type": "execute_result"
    }
   ],
   "source": [
    "master_frame_venture.shape[0]"
   ]
  },
  {
   "cell_type": "code",
   "execution_count": 47,
   "metadata": {
    "scrolled": false
   },
   "outputs": [
    {
     "data": {
      "text/plain": [
       "company_permalink             0\n",
       "funding_round_permalink       0\n",
       "raised_amount_usd             0\n",
       "permalink                     0\n",
       "name                          0\n",
       "homepage_url               2090\n",
       "category_list                 0\n",
       "status                        0\n",
       "country_code                  0\n",
       "Primary_Sector                0\n",
       "main_sector                   0\n",
       "dtype: int64"
      ]
     },
     "execution_count": 47,
     "metadata": {},
     "output_type": "execute_result"
    }
   ],
   "source": [
    "master_frame_venture.isnull().sum()"
   ]
  },
  {
   "cell_type": "markdown",
   "metadata": {},
   "source": [
    "## 5.1 Checkpoint 5: Sector Analysis 2\n",
    "<blockquoute>Now, the aim is to find out the most heavily invested main sectors in each of the three countries (for funding type FT and investments range of 5-15 M USD).\n",
    "\n",
    "Create three separate data frames D1, D2 and D3 for each of the three countries containing the observations of funding type FT falling within the 5-15 million USD range. The three data frames should contain:\n",
    "\n",
    "All the columns of the master_frame along with the primary sector and the main sector\n",
    "\n",
    "The total number (or count) of investments for each main sector in a separate column\n",
    "\n",
    "The total amount invested in each main sector in a separate column\n",
    "\n",
    "Using the three data frames, you can calculate the total number and amount of investments in each main sector.</blockquote>"
   ]
  },
  {
   "cell_type": "code",
   "execution_count": 48,
   "metadata": {
    "collapsed": true
   },
   "outputs": [],
   "source": [
    "#filter rows based on the criteria that raised amount usd should be between 5 and 15 million USD \n",
    "master_frame_venture=master_frame_venture[master_frame_venture['raised_amount_usd'].between(5.0,15.0,inclusive=True)]"
   ]
  },
  {
   "cell_type": "code",
   "execution_count": 49,
   "metadata": {
    "collapsed": true
   },
   "outputs": [],
   "source": [
    "#Create dataframe D1 for USA\n",
    "D1=master_frame_venture[master_frame_venture['country_code']=='USA']\n",
    "D1 = D1.assign(count_of_invest =D1.groupby('main_sector')['main_sector'].transform('count'))\n",
    "D1 = D1.assign(sum_of_invest =D1.groupby('main_sector')['raised_amount_usd'].transform('sum'))"
   ]
  },
  {
   "cell_type": "code",
   "execution_count": 50,
   "metadata": {},
   "outputs": [
    {
     "data": {
      "text/plain": [
       "(12041, 13)"
      ]
     },
     "execution_count": 50,
     "metadata": {},
     "output_type": "execute_result"
    }
   ],
   "source": [
    "D1.shape"
   ]
  },
  {
   "cell_type": "code",
   "execution_count": 51,
   "metadata": {
    "collapsed": true
   },
   "outputs": [],
   "source": [
    "#Create dataframe D1 for GBR\n",
    "D2=master_frame_venture[master_frame_venture['country_code']=='GBR']\n",
    "D2 = D2.assign(count_of_invest =D2.groupby('main_sector')['main_sector'].transform('count'))\n",
    "D2 = D2.assign(sum_of_invest =D2.groupby('main_sector')['raised_amount_usd'].transform('sum'))"
   ]
  },
  {
   "cell_type": "code",
   "execution_count": 52,
   "metadata": {},
   "outputs": [
    {
     "data": {
      "text/plain": [
       "(620, 13)"
      ]
     },
     "execution_count": 52,
     "metadata": {},
     "output_type": "execute_result"
    }
   ],
   "source": [
    "D2.shape"
   ]
  },
  {
   "cell_type": "code",
   "execution_count": 53,
   "metadata": {
    "collapsed": true
   },
   "outputs": [],
   "source": [
    "#Create dataframe D1 for IND\n",
    "D3=master_frame_venture[master_frame_venture['country_code']=='IND']\n",
    "D3 = D3.assign(count_of_invest =D3.groupby('main_sector')['main_sector'].transform('count'))\n",
    "D3 = D3.assign(sum_of_invest =D3.groupby('main_sector')['raised_amount_usd'].transform('sum'))"
   ]
  },
  {
   "cell_type": "code",
   "execution_count": 54,
   "metadata": {},
   "outputs": [
    {
     "data": {
      "text/plain": [
       "(328, 13)"
      ]
     },
     "execution_count": 54,
     "metadata": {},
     "output_type": "execute_result"
    }
   ],
   "source": [
    "D3.shape"
   ]
  },
  {
   "cell_type": "code",
   "execution_count": 55,
   "metadata": {},
   "outputs": [
    {
     "name": "stdout",
     "output_type": "stream",
     "text": [
      "12041\n",
      "620\n",
      "328\n"
     ]
    }
   ],
   "source": [
    "#Total number of investments (count)\n",
    "print(D1.raised_amount_usd.count())\n",
    "print(D2.raised_amount_usd.count())\n",
    "print(D3.raised_amount_usd.count())"
   ]
  },
  {
   "cell_type": "code",
   "execution_count": 56,
   "metadata": {},
   "outputs": [
    {
     "name": "stdout",
     "output_type": "stream",
     "text": [
      "107563318000.0002\n",
      "5380228000.000001\n",
      "2949544000.0000005\n"
     ]
    }
   ],
   "source": [
    "#Total amount of investments \n",
    "print(D1.raised_amount_usd.sum()*1000000)\n",
    "print(D2.raised_amount_usd.sum()*1000000)\n",
    "print(D3.raised_amount_usd.sum()*1000000)"
   ]
  },
  {
   "cell_type": "code",
   "execution_count": 57,
   "metadata": {
    "collapsed": true
   },
   "outputs": [],
   "source": [
    "#Delete the rows where company status is closed, as they are not required to be considered for future funding\n",
    "D1=D1[D1['status']!='closed']\n",
    "D2=D2[D2['status']!='closed']\n",
    "D3=D3[D3['status']!='closed']"
   ]
  },
  {
   "cell_type": "code",
   "execution_count": 58,
   "metadata": {},
   "outputs": [
    {
     "data": {
      "text/html": [
       "<div>\n",
       "<style>\n",
       "    .dataframe thead tr:only-child th {\n",
       "        text-align: right;\n",
       "    }\n",
       "\n",
       "    .dataframe thead th {\n",
       "        text-align: left;\n",
       "    }\n",
       "\n",
       "    .dataframe tbody tr th {\n",
       "        vertical-align: top;\n",
       "    }\n",
       "</style>\n",
       "<table border=\"1\" class=\"dataframe\">\n",
       "  <thead>\n",
       "    <tr>\n",
       "      <th></th>\n",
       "      <th colspan=\"2\" halign=\"left\">raised_amount_usd</th>\n",
       "    </tr>\n",
       "    <tr>\n",
       "      <th></th>\n",
       "      <th>Total_amount</th>\n",
       "      <th>Total_count</th>\n",
       "    </tr>\n",
       "    <tr>\n",
       "      <th>main_sector</th>\n",
       "      <th></th>\n",
       "      <th></th>\n",
       "    </tr>\n",
       "  </thead>\n",
       "  <tbody>\n",
       "    <tr>\n",
       "      <th>Automotive &amp; Sports</th>\n",
       "      <td>1374.303</td>\n",
       "      <td>157</td>\n",
       "    </tr>\n",
       "    <tr>\n",
       "      <th>Cleantech / Semiconductors</th>\n",
       "      <td>19785.534</td>\n",
       "      <td>2152</td>\n",
       "    </tr>\n",
       "    <tr>\n",
       "      <th>Entertainment</th>\n",
       "      <td>4602.749</td>\n",
       "      <td>531</td>\n",
       "    </tr>\n",
       "    <tr>\n",
       "      <th>Health</th>\n",
       "      <td>7799.832</td>\n",
       "      <td>859</td>\n",
       "    </tr>\n",
       "    <tr>\n",
       "      <th>Manufacturing</th>\n",
       "      <td>6740.083</td>\n",
       "      <td>743</td>\n",
       "    </tr>\n",
       "    <tr>\n",
       "      <th>News, Search and Messaging</th>\n",
       "      <td>12996.910</td>\n",
       "      <td>1468</td>\n",
       "    </tr>\n",
       "    <tr>\n",
       "      <th>Others</th>\n",
       "      <td>24691.700</td>\n",
       "      <td>2765</td>\n",
       "    </tr>\n",
       "    <tr>\n",
       "      <th>Social, Finance, Analytics, Advertising</th>\n",
       "      <td>22860.775</td>\n",
       "      <td>2594</td>\n",
       "    </tr>\n",
       "  </tbody>\n",
       "</table>\n",
       "</div>"
      ],
      "text/plain": [
       "                                        raised_amount_usd            \n",
       "                                             Total_amount Total_count\n",
       "main_sector                                                          \n",
       "Automotive & Sports                              1374.303         157\n",
       "Cleantech / Semiconductors                      19785.534        2152\n",
       "Entertainment                                    4602.749         531\n",
       "Health                                           7799.832         859\n",
       "Manufacturing                                    6740.083         743\n",
       "News, Search and Messaging                      12996.910        1468\n",
       "Others                                          24691.700        2765\n",
       "Social, Finance, Analytics, Advertising         22860.775        2594"
      ]
     },
     "execution_count": 58,
     "metadata": {},
     "output_type": "execute_result"
    }
   ],
   "source": [
    "D1[['raised_amount_usd','main_sector']].groupby('main_sector').agg(['sum', 'count']).rename(\n",
    "    columns={'sum':'Total_amount','count' : 'Total_count'})"
   ]
  },
  {
   "cell_type": "code",
   "execution_count": 59,
   "metadata": {},
   "outputs": [
    {
     "data": {
      "text/html": [
       "<div>\n",
       "<style>\n",
       "    .dataframe thead tr:only-child th {\n",
       "        text-align: right;\n",
       "    }\n",
       "\n",
       "    .dataframe thead th {\n",
       "        text-align: left;\n",
       "    }\n",
       "\n",
       "    .dataframe tbody tr th {\n",
       "        vertical-align: top;\n",
       "    }\n",
       "</style>\n",
       "<table border=\"1\" class=\"dataframe\">\n",
       "  <thead>\n",
       "    <tr>\n",
       "      <th></th>\n",
       "      <th colspan=\"2\" halign=\"left\">raised_amount_usd</th>\n",
       "    </tr>\n",
       "    <tr>\n",
       "      <th></th>\n",
       "      <th>Total_amount</th>\n",
       "      <th>Total_count</th>\n",
       "    </tr>\n",
       "    <tr>\n",
       "      <th>main_sector</th>\n",
       "      <th></th>\n",
       "      <th></th>\n",
       "    </tr>\n",
       "  </thead>\n",
       "  <tbody>\n",
       "    <tr>\n",
       "      <th>Automotive &amp; Sports</th>\n",
       "      <td>167.051</td>\n",
       "      <td>16</td>\n",
       "    </tr>\n",
       "    <tr>\n",
       "      <th>Cleantech / Semiconductors</th>\n",
       "      <td>1041.262</td>\n",
       "      <td>115</td>\n",
       "    </tr>\n",
       "    <tr>\n",
       "      <th>Entertainment</th>\n",
       "      <td>463.516</td>\n",
       "      <td>53</td>\n",
       "    </tr>\n",
       "    <tr>\n",
       "      <th>Health</th>\n",
       "      <td>202.538</td>\n",
       "      <td>23</td>\n",
       "    </tr>\n",
       "    <tr>\n",
       "      <th>Manufacturing</th>\n",
       "      <td>343.323</td>\n",
       "      <td>40</td>\n",
       "    </tr>\n",
       "    <tr>\n",
       "      <th>News, Search and Messaging</th>\n",
       "      <td>558.500</td>\n",
       "      <td>66</td>\n",
       "    </tr>\n",
       "    <tr>\n",
       "      <th>Others</th>\n",
       "      <td>1230.441</td>\n",
       "      <td>141</td>\n",
       "    </tr>\n",
       "    <tr>\n",
       "      <th>Social, Finance, Analytics, Advertising</th>\n",
       "      <td>1054.631</td>\n",
       "      <td>128</td>\n",
       "    </tr>\n",
       "  </tbody>\n",
       "</table>\n",
       "</div>"
      ],
      "text/plain": [
       "                                        raised_amount_usd            \n",
       "                                             Total_amount Total_count\n",
       "main_sector                                                          \n",
       "Automotive & Sports                               167.051          16\n",
       "Cleantech / Semiconductors                       1041.262         115\n",
       "Entertainment                                     463.516          53\n",
       "Health                                            202.538          23\n",
       "Manufacturing                                     343.323          40\n",
       "News, Search and Messaging                        558.500          66\n",
       "Others                                           1230.441         141\n",
       "Social, Finance, Analytics, Advertising          1054.631         128"
      ]
     },
     "execution_count": 59,
     "metadata": {},
     "output_type": "execute_result"
    }
   ],
   "source": [
    "D2[['raised_amount_usd','main_sector']].groupby('main_sector').agg(['sum', 'count']).rename(\n",
    "    columns={'sum':'Total_amount','count' : 'Total_count'})"
   ]
  },
  {
   "cell_type": "code",
   "execution_count": 60,
   "metadata": {},
   "outputs": [
    {
     "data": {
      "text/html": [
       "<div>\n",
       "<style>\n",
       "    .dataframe thead tr:only-child th {\n",
       "        text-align: right;\n",
       "    }\n",
       "\n",
       "    .dataframe thead th {\n",
       "        text-align: left;\n",
       "    }\n",
       "\n",
       "    .dataframe tbody tr th {\n",
       "        vertical-align: top;\n",
       "    }\n",
       "</style>\n",
       "<table border=\"1\" class=\"dataframe\">\n",
       "  <thead>\n",
       "    <tr>\n",
       "      <th></th>\n",
       "      <th colspan=\"2\" halign=\"left\">raised_amount_usd</th>\n",
       "    </tr>\n",
       "    <tr>\n",
       "      <th></th>\n",
       "      <th>Total_amount</th>\n",
       "      <th>Total_count</th>\n",
       "    </tr>\n",
       "    <tr>\n",
       "      <th>main_sector</th>\n",
       "      <th></th>\n",
       "      <th></th>\n",
       "    </tr>\n",
       "  </thead>\n",
       "  <tbody>\n",
       "    <tr>\n",
       "      <th>Automotive &amp; Sports</th>\n",
       "      <td>136.900</td>\n",
       "      <td>13</td>\n",
       "    </tr>\n",
       "    <tr>\n",
       "      <th>Cleantech / Semiconductors</th>\n",
       "      <td>165.380</td>\n",
       "      <td>20</td>\n",
       "    </tr>\n",
       "    <tr>\n",
       "      <th>Entertainment</th>\n",
       "      <td>272.080</td>\n",
       "      <td>32</td>\n",
       "    </tr>\n",
       "    <tr>\n",
       "      <th>Health</th>\n",
       "      <td>160.740</td>\n",
       "      <td>18</td>\n",
       "    </tr>\n",
       "    <tr>\n",
       "      <th>Manufacturing</th>\n",
       "      <td>200.900</td>\n",
       "      <td>21</td>\n",
       "    </tr>\n",
       "    <tr>\n",
       "      <th>News, Search and Messaging</th>\n",
       "      <td>408.835</td>\n",
       "      <td>49</td>\n",
       "    </tr>\n",
       "    <tr>\n",
       "      <th>Others</th>\n",
       "      <td>940.290</td>\n",
       "      <td>103</td>\n",
       "    </tr>\n",
       "    <tr>\n",
       "      <th>Social, Finance, Analytics, Advertising</th>\n",
       "      <td>535.549</td>\n",
       "      <td>59</td>\n",
       "    </tr>\n",
       "  </tbody>\n",
       "</table>\n",
       "</div>"
      ],
      "text/plain": [
       "                                        raised_amount_usd            \n",
       "                                             Total_amount Total_count\n",
       "main_sector                                                          \n",
       "Automotive & Sports                               136.900          13\n",
       "Cleantech / Semiconductors                        165.380          20\n",
       "Entertainment                                     272.080          32\n",
       "Health                                            160.740          18\n",
       "Manufacturing                                     200.900          21\n",
       "News, Search and Messaging                        408.835          49\n",
       "Others                                            940.290         103\n",
       "Social, Finance, Analytics, Advertising           535.549          59"
      ]
     },
     "execution_count": 60,
     "metadata": {},
     "output_type": "execute_result"
    }
   ],
   "source": [
    "D3[['raised_amount_usd','main_sector']].groupby('main_sector').agg(['sum', 'count']).rename(\n",
    "    columns={'sum':'Total_amount','count' : 'Total_count'})"
   ]
  },
  {
   "cell_type": "code",
   "execution_count": 61,
   "metadata": {},
   "outputs": [
    {
     "name": "stdout",
     "output_type": "stream",
     "text": [
      "                           raised_amount_usd\n",
      "company_permalink                           \n",
      "/organization/virtustream               64.3\n",
      "                           raised_amount_usd\n",
      "company_permalink                           \n",
      "/organization/shotspotter             67.933\n"
     ]
    }
   ],
   "source": [
    "#For the top sector USA , which company received the highest investment?\n",
    "company = D1[D1['main_sector']=='Others']\n",
    "company = company.pivot_table(values = 'raised_amount_usd', index = 'company_permalink', aggfunc = 'sum')\n",
    "company = company.sort_values(by = 'raised_amount_usd', ascending = False).head()\n",
    "print(company.head(1))\n",
    "\n",
    "#For the second top sector in USA, the company received the highest investment:\n",
    "company = D1[D1['main_sector']=='Social, Finance, Analytics, Advertising']\n",
    "company = company.pivot_table(values = 'raised_amount_usd', index = 'company_permalink', aggfunc = 'sum')\n",
    "company = company.sort_values(by = 'raised_amount_usd', ascending = False).head()\n",
    "print(company.head(1))"
   ]
  },
  {
   "cell_type": "code",
   "execution_count": 62,
   "metadata": {},
   "outputs": [
    {
     "name": "stdout",
     "output_type": "stream",
     "text": [
      "                              raised_amount_usd\n",
      "company_permalink                              \n",
      "/organization/electric-cloud               37.0\n",
      "                                     raised_amount_usd\n",
      "company_permalink                                     \n",
      "/organization/celltick-technologies               37.5\n"
     ]
    }
   ],
   "source": [
    "#For the top sector GBR , which company received the highest investment?\n",
    "company = D2[D2['main_sector']=='Others']\n",
    "company = company.pivot_table(values = 'raised_amount_usd', index = 'company_permalink', aggfunc = 'sum')\n",
    "company = company.sort_values(by = 'raised_amount_usd', ascending = False).head()\n",
    "print(company.head(1))\n",
    "\n",
    "#For the second top sector in GBR , the company received the highest investment:\n",
    "company = D2[D2['main_sector']=='Social, Finance, Analytics, Advertising']\n",
    "company = company.pivot_table(values = 'raised_amount_usd', index = 'company_permalink', aggfunc = 'sum')\n",
    "company = company.sort_values(by = 'raised_amount_usd', ascending = False).head()\n",
    "print(company.head(1))"
   ]
  },
  {
   "cell_type": "code",
   "execution_count": 63,
   "metadata": {},
   "outputs": [
    {
     "name": "stdout",
     "output_type": "stream",
     "text": [
      "                            raised_amount_usd\n",
      "company_permalink                            \n",
      "/organization/firstcry-com               39.0\n",
      "                               raised_amount_usd\n",
      "company_permalink                               \n",
      "/organization/manthan-systems               50.7\n"
     ]
    }
   ],
   "source": [
    "#For the top sector in IND , which company received the highest investment?\n",
    "company = D3[D3['main_sector']=='Others']\n",
    "company = company.pivot_table(values = 'raised_amount_usd', index = 'company_permalink', aggfunc = 'sum')\n",
    "company = company.sort_values(by = 'raised_amount_usd', ascending = False).head()\n",
    "print(company.head(1))\n",
    "\n",
    "#For the second top sector in IND , the company received the highest investment:\n",
    "company = D3[D3['main_sector']=='Social, Finance, Analytics, Advertising']\n",
    "company = company.pivot_table(values = 'raised_amount_usd', index = 'company_permalink', aggfunc = 'sum')\n",
    "company = company.sort_values(by = 'raised_amount_usd', ascending = False).head()\n",
    "print(company.head(1))"
   ]
  },
  {
   "cell_type": "markdown",
   "metadata": {},
   "source": [
    "## Analysis Result:\n",
    "<blockquote> Based on the analysis performed Spark Funds should invest in -\n",
    "<ul><li>Funding/Investment type - <b>Venture</b></li>\n",
    "<li>Countries - <b>USA, Britain</b> and <b>India</b></li>\n",
    "<li>Top two sectors - <b>Others</b> and <b>Social, Finance, Analytics, Advertising</b></li></blockquote>"
   ]
  },
  {
   "cell_type": "markdown",
   "metadata": {},
   "source": [
    "## Checkpoint 6: Plots\n",
    "### Plots - Investment/Funding Type Analysis"
   ]
  },
  {
   "cell_type": "code",
   "execution_count": 75,
   "metadata": {
    "collapsed": true
   },
   "outputs": [],
   "source": [
    "import matplotlib.pyplot as plt\n",
    "import seaborn as sns\n",
    "\n",
    "sns.set(style=\"whitegrid\")"
   ]
  },
  {
   "cell_type": "code",
   "execution_count": 76,
   "metadata": {},
   "outputs": [],
   "source": [
    "master_frame_original = master_frame_original[master_frame_original['funding_round_type'].isin(['venture', 'angel', 'seed', 'private_equity'])]\n",
    "master_frame_original = master_frame_original.dropna(subset=['raised_amount_usd'])\n",
    "\n",
    "round_types = master_frame_original.funding_round_type.value_counts()"
   ]
  },
  {
   "cell_type": "code",
   "execution_count": 77,
   "metadata": {},
   "outputs": [
    {
     "data": {
      "image/png": "[encoded data removed]",
      "text/plain": [
       "<matplotlib.figure.Figure at 0xf8983c6ac8>"
      ]
     },
     "metadata": {},
     "output_type": "display_data"
    }
   ],
   "source": [
    "# create a figure and set different background\n",
    "fig = plt.figure()\n",
    "fig.patch.set_facecolor('black')\n",
    " \n",
    "# Change color of text\n",
    "plt.rcParams['text.color'] = 'white'\n",
    " \n",
    "# Create a circle for the center of the plot\n",
    "my_circle=plt.Circle( (0,0), 0.7, color='black')\n",
    " \n",
    "# Pieplot + circle on it\n",
    "plt.pie(round_types.values, labels=round_types.index, autopct='%.2f')\n",
    "plt.title('Fraction of Investment')\n",
    "p=plt.gcf()\n",
    "p.gca().add_artist(my_circle)\n",
    "plt.show()"
   ]
  },
  {
   "cell_type": "code",
   "execution_count": 78,
   "metadata": {},
   "outputs": [
    {
     "name": "stdout",
     "output_type": "stream",
     "text": [
      "Average funding amount raised: 11.75\n",
      "Average funding amount raised: 0.96\n",
      "Average funding amount raised: 0.72\n",
      "Average funding amount raised: 73.31\n"
     ]
    }
   ],
   "source": [
    "# Average funding amount for venture type\n",
    "venture_mean = master_frame_original[master_frame_original['funding_round_type']=='venture'].raised_amount_usd.mean()/1000000\n",
    "print(f\"Average funding amount raised: {round(venture_mean, 2)}\")\n",
    "# Average funding amount for angel type\n",
    "angel_mean = master_frame_original[master_frame_original['funding_round_type']=='angel'].raised_amount_usd.mean()/1000000\n",
    "print(f\"Average funding amount raised: {round(angel_mean, 2)}\")\n",
    "# Average funding amount for seed type\n",
    "seed_mean = master_frame_original[master_frame_original['funding_round_type']=='seed'].raised_amount_usd.mean()/1000000\n",
    "print(f\"Average funding amount raised: {round(seed_mean, 2)}\")\n",
    "# Average funding amount for private equity type\n",
    "equity_mean = master_frame_original[master_frame_original['funding_round_type']=='private_equity'].raised_amount_usd.mean()/1000000\n",
    "print(f\"Average funding amount raised: {round(equity_mean, 2)}\")\n"
   ]
  },
  {
   "cell_type": "code",
   "execution_count": 79,
   "metadata": {},
   "outputs": [
    {
     "name": "stdout",
     "output_type": "stream",
     "text": [
      "Index(['venture', 'seed', 'angel', 'private_equity'], dtype='object')\n"
     ]
    },
    {
     "data": {
      "image/png": "[encoded data removed]",
      "text/plain": [
       "<matplotlib.figure.Figure at 0xf8984afc88>"
      ]
     },
     "metadata": {},
     "output_type": "display_data"
    }
   ],
   "source": [
    "plt.figure(figsize=(15, 8))\n",
    "plt.rcParams['text.color'] = 'black'\n",
    "print(round_types.index)\n",
    "s=sns.barplot(x=['venture', 'seed', 'angel', 'private_equity'], y=[venture_mean, seed_mean, angel_mean, equity_mean],\n",
    "              saturation=8, palette = 'hls', ci = 'sd')\n",
    "s.set(xlabel='Funding Type', ylabel='Avg. Raised Amount (million USD)')\n",
    "s.set_title('Average Amount of Investment',fontsize =18,color='Black')\n",
    "plt.axhline(y=5, xmin=0, xmax=1,color='Blue',dashes=(5,2,1,2),linewidth=1.0)\n",
    "plt.axhline(y=15, xmin=0, xmax=1,color='Red',dashes=(5,2,1,2),linewidth=1.0)\n",
    "plt.show()"
   ]
  },
  {
   "cell_type": "markdown",
   "metadata": {},
   "source": [
    "<blockquote> From the above plots is it's evident that Venture type of Funding is most suitable for Spark Funds, because -\n",
    "<ol><li>Mean investment falls between 5 to 15 million USD</li>\n",
    "<li>Most of the investments happened under this investment type</li></ol>"
   ]
  },
  {
   "cell_type": "markdown",
   "metadata": {},
   "source": [
    "## Plots - Country-wise Analysis"
   ]
  },
  {
   "cell_type": "code",
   "execution_count": 80,
   "metadata": {},
   "outputs": [
    {
     "data": {
      "image/png": "[encoded data removed]",
      "text/plain": [
       "<matplotlib.figure.Figure at 0xf898479400>"
      ]
     },
     "metadata": {},
     "output_type": "display_data"
    },
    {
     "name": "stdout",
     "output_type": "stream",
     "text": [
      "     country_code  raised_amount_usd\n",
      "Rank                                \n",
      "1             USA         422510.872\n",
      "2             CHN          39835.418\n",
      "3             GBR          20245.629\n",
      "4             IND          14391.859\n",
      "5             CAN           9583.323\n",
      "6             FRA           7259.532\n",
      "7             ISR           6907.514\n",
      "8             DEU           6346.960\n",
      "9             JPN           3363.676 \n",
      "\n",
      "Top 3 english speaking countries in order are: USA, GBR, IND\n"
     ]
    }
   ],
   "source": [
    "#A plot showing the top 9 countries against the total amount of investments of funding type 'Venture'\n",
    "plt.figure(figsize=(10,5))\n",
    "c=sns.barplot(x='raised_amount_usd', y='country_code', data=top9,  estimator=np.sum, saturation=8)\n",
    "c.set(xlabel='Raised Amount (Million USD)', ylabel='Countries')\n",
    "c.set_title('Top Countries for Venture Funding',fontsize =18, color='Black')\n",
    "plt.show()\n",
    "print(top9, '\\n')\n",
    "print(\"Top 3 english speaking countries in order are: USA, GBR, IND\")"
   ]
  },
  {
   "cell_type": "markdown",
   "metadata": {},
   "source": [
    "## Plots - Sector Analysis for Top 3 Countries"
   ]
  },
  {
   "cell_type": "code",
   "execution_count": 81,
   "metadata": {
    "collapsed": true
   },
   "outputs": [],
   "source": [
    "master_D=D1[D1['main_sector'].isin(['Others','Social, Finance, Analytics, Advertising','Cleantech / Semiconductors'])]"
   ]
  },
  {
   "cell_type": "code",
   "execution_count": 82,
   "metadata": {
    "collapsed": true
   },
   "outputs": [],
   "source": [
    "master_D=master_D.append(D2[D2['main_sector'].isin(['Others','Social, Finance, Analytics, Advertising','Cleantech / Semiconductors'])], ignore_index=True)"
   ]
  },
  {
   "cell_type": "code",
   "execution_count": 83,
   "metadata": {
    "collapsed": true
   },
   "outputs": [],
   "source": [
    "master_D=master_D.append(D3[D3['main_sector'].isin(['Others','Social, Finance, Analytics, Advertising','News, Search and Messaging'])], ignore_index=True)"
   ]
  },
  {
   "cell_type": "code",
   "execution_count": 84,
   "metadata": {},
   "outputs": [
    {
     "data": {
      "text/html": [
       "<div>\n",
       "<style>\n",
       "    .dataframe thead tr:only-child th {\n",
       "        text-align: right;\n",
       "    }\n",
       "\n",
       "    .dataframe thead th {\n",
       "        text-align: left;\n",
       "    }\n",
       "\n",
       "    .dataframe tbody tr th {\n",
       "        vertical-align: top;\n",
       "    }\n",
       "</style>\n",
       "<table border=\"1\" class=\"dataframe\">\n",
       "  <thead>\n",
       "    <tr style=\"text-align: right;\">\n",
       "      <th></th>\n",
       "      <th>company_permalink</th>\n",
       "      <th>funding_round_permalink</th>\n",
       "      <th>raised_amount_usd</th>\n",
       "      <th>permalink</th>\n",
       "      <th>name</th>\n",
       "      <th>homepage_url</th>\n",
       "      <th>category_list</th>\n",
       "      <th>status</th>\n",
       "      <th>country_code</th>\n",
       "      <th>Primary_Sector</th>\n",
       "      <th>main_sector</th>\n",
       "      <th>count_of_invest</th>\n",
       "      <th>sum_of_invest</th>\n",
       "    </tr>\n",
       "  </thead>\n",
       "  <tbody>\n",
       "    <tr>\n",
       "      <th>0</th>\n",
       "      <td>/organization/22nd-century-group</td>\n",
       "      <td>/funding-round/50617d7ea8eaa838e2fd8eb8dfe06054</td>\n",
       "      <td>10.000</td>\n",
       "      <td>/organization/22nd-century-group</td>\n",
       "      <td>22nd Century Group</td>\n",
       "      <td>http://www.xxiicentury.com</td>\n",
       "      <td>Biotechnology</td>\n",
       "      <td>ipo</td>\n",
       "      <td>USA</td>\n",
       "      <td>Biotechnology</td>\n",
       "      <td>Cleantech / Semiconductors</td>\n",
       "      <td>2305</td>\n",
       "      <td>21251.639</td>\n",
       "    </tr>\n",
       "    <tr>\n",
       "      <th>1</th>\n",
       "      <td>/organization/23andme</td>\n",
       "      <td>/funding-round/97062e0d50c2955cbe40bf8220d87b08</td>\n",
       "      <td>9.000</td>\n",
       "      <td>/organization/23andme</td>\n",
       "      <td>23andMe</td>\n",
       "      <td>http://23andme.com</td>\n",
       "      <td>Biotechnology|Search</td>\n",
       "      <td>operating</td>\n",
       "      <td>USA</td>\n",
       "      <td>Biotechnology</td>\n",
       "      <td>Cleantech / Semiconductors</td>\n",
       "      <td>2305</td>\n",
       "      <td>21251.639</td>\n",
       "    </tr>\n",
       "    <tr>\n",
       "      <th>2</th>\n",
       "      <td>/organization/23andme</td>\n",
       "      <td>/funding-round/c27c1b420dfb34677a6ba449524f1c88</td>\n",
       "      <td>12.600</td>\n",
       "      <td>/organization/23andme</td>\n",
       "      <td>23andMe</td>\n",
       "      <td>http://23andme.com</td>\n",
       "      <td>Biotechnology|Search</td>\n",
       "      <td>operating</td>\n",
       "      <td>USA</td>\n",
       "      <td>Biotechnology</td>\n",
       "      <td>Cleantech / Semiconductors</td>\n",
       "      <td>2305</td>\n",
       "      <td>21251.639</td>\n",
       "    </tr>\n",
       "    <tr>\n",
       "      <th>3</th>\n",
       "      <td>/organization/23andme</td>\n",
       "      <td>/funding-round/f261366b4fbf1840ad71b20ea0d9c7ce</td>\n",
       "      <td>9.000</td>\n",
       "      <td>/organization/23andme</td>\n",
       "      <td>23andMe</td>\n",
       "      <td>http://23andme.com</td>\n",
       "      <td>Biotechnology|Search</td>\n",
       "      <td>operating</td>\n",
       "      <td>USA</td>\n",
       "      <td>Biotechnology</td>\n",
       "      <td>Cleantech / Semiconductors</td>\n",
       "      <td>2305</td>\n",
       "      <td>21251.639</td>\n",
       "    </tr>\n",
       "    <tr>\n",
       "      <th>4</th>\n",
       "      <td>/organization/3-v-biosciences</td>\n",
       "      <td>/funding-round/069e2f1ded2f499d232c3d7ec762c0e2</td>\n",
       "      <td>14.279</td>\n",
       "      <td>/organization/3-v-biosciences</td>\n",
       "      <td>3-V Biosciences</td>\n",
       "      <td>http://www.3vbio.com</td>\n",
       "      <td>Biotechnology</td>\n",
       "      <td>operating</td>\n",
       "      <td>USA</td>\n",
       "      <td>Biotechnology</td>\n",
       "      <td>Cleantech / Semiconductors</td>\n",
       "      <td>2305</td>\n",
       "      <td>21251.639</td>\n",
       "    </tr>\n",
       "  </tbody>\n",
       "</table>\n",
       "</div>"
      ],
      "text/plain": [
       "                  company_permalink  \\\n",
       "0  /organization/22nd-century-group   \n",
       "1             /organization/23andme   \n",
       "2             /organization/23andme   \n",
       "3             /organization/23andme   \n",
       "4     /organization/3-v-biosciences   \n",
       "\n",
       "                           funding_round_permalink  raised_amount_usd  \\\n",
       "0  /funding-round/50617d7ea8eaa838e2fd8eb8dfe06054             10.000   \n",
       "1  /funding-round/97062e0d50c2955cbe40bf8220d87b08              9.000   \n",
       "2  /funding-round/c27c1b420dfb34677a6ba449524f1c88             12.600   \n",
       "3  /funding-round/f261366b4fbf1840ad71b20ea0d9c7ce              9.000   \n",
       "4  /funding-round/069e2f1ded2f499d232c3d7ec762c0e2             14.279   \n",
       "\n",
       "                          permalink                name  \\\n",
       "0  /organization/22nd-century-group  22nd Century Group   \n",
       "1             /organization/23andme             23andMe   \n",
       "2             /organization/23andme             23andMe   \n",
       "3             /organization/23andme             23andMe   \n",
       "4     /organization/3-v-biosciences     3-V Biosciences   \n",
       "\n",
       "                 homepage_url         category_list     status country_code  \\\n",
       "0  http://www.xxiicentury.com         Biotechnology        ipo          USA   \n",
       "1          http://23andme.com  Biotechnology|Search  operating          USA   \n",
       "2          http://23andme.com  Biotechnology|Search  operating          USA   \n",
       "3          http://23andme.com  Biotechnology|Search  operating          USA   \n",
       "4        http://www.3vbio.com         Biotechnology  operating          USA   \n",
       "\n",
       "  Primary_Sector                 main_sector  count_of_invest  sum_of_invest  \n",
       "0  Biotechnology  Cleantech / Semiconductors             2305      21251.639  \n",
       "1  Biotechnology  Cleantech / Semiconductors             2305      21251.639  \n",
       "2  Biotechnology  Cleantech / Semiconductors             2305      21251.639  \n",
       "3  Biotechnology  Cleantech / Semiconductors             2305      21251.639  \n",
       "4  Biotechnology  Cleantech / Semiconductors             2305      21251.639  "
      ]
     },
     "execution_count": 84,
     "metadata": {},
     "output_type": "execute_result"
    }
   ],
   "source": [
    "master_D.head()"
   ]
  },
  {
   "cell_type": "code",
   "execution_count": 86,
   "metadata": {},
   "outputs": [
    {
     "data": {
      "image/png": "[encoded data removed]",
      "text/plain": [
       "<matplotlib.figure.Figure at 0xf898442048>"
      ]
     },
     "metadata": {},
     "output_type": "display_data"
    }
   ],
   "source": [
    "# set figure size for larger figure\n",
    "plt.figure(num=None, figsize=(12, 6), dpi=80, facecolor='w', edgecolor='k')\n",
    "\n",
    "# specify hue=\"categorical_variable\"\n",
    "s=sns.barplot(x='country_code', y='raised_amount_usd', hue=\"main_sector\", data=master_D,estimator=lambda x: len(x))\n",
    "s.set(xlabel='Country', ylabel='Number of Investments')\n",
    "s.set_title('Investments in the top 3 sectors of the top 3 countries',fontsize =18,color='Black')\n",
    "plt.show()"
   ]
  },
  {
   "cell_type": "code",
   "execution_count": null,
   "metadata": {
    "collapsed": true
   },
   "outputs": [],
   "source": []
  }
 ],
 "metadata": {
  "kernelspec": {
   "display_name": "Python 3",
   "language": "python",
   "name": "python3"
  },
  "language_info": {
   "codemirror_mode": {
    "name": "ipython",
    "version": 3
   },
   "file_extension": ".py",
   "mimetype": "text/x-python",
   "name": "python",
   "nbconvert_exporter": "python",
   "pygments_lexer": "ipython3",
   "version": "3.6.3"
  }
 },
 "nbformat": 4,
 "nbformat_minor": 2
}
